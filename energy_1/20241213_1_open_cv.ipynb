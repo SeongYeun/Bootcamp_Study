{
 "cells": [
  {
   "cell_type": "code",
   "execution_count": 1,
   "metadata": {},
   "outputs": [],
   "source": [
    "import cv2\n",
    "import matplotlib.pyplot as plt"
   ]
  },
  {
   "cell_type": "code",
   "execution_count": 4,
   "metadata": {},
   "outputs": [],
   "source": [
    "# 이미지 불러오기\n",
    "image = cv2.imread(r\"C:\\Users\\praye\\Documents\\Bootcamp\\energy_1\\raw data\\test_image.jpg\")"
   ]
  },
  {
   "cell_type": "code",
   "execution_count": 5,
   "metadata": {},
   "outputs": [],
   "source": [
    "# openCV : BGR  ->  matplotlib : RGB\n",
    "image_rgb = cv2.cvtColor(image, cv2.COLOR_BGR2RGB)"
   ]
  },
  {
   "cell_type": "code",
   "execution_count": 8,
   "metadata": {},
   "outputs": [],
   "source": [
    "# cv2를 이용해서 이미지 출력\n",
    "cv2.imshow(\"title\", image_rgb)\n",
    "cv2.waitKey(0)\n",
    "cv2.destroyAllWindows()"
   ]
  },
  {
   "cell_type": "code",
   "execution_count": null,
   "metadata": {},
   "outputs": [],
   "source": [
    "# matplotlib을 이용해서 이미지 출력\n",
    "plt.imshow(image_rgb)\n",
    "plt.axis('off')         # 축 미출력\n",
    "# matplotlib에도 imshow가 동일한 함수로 동일한 기능을 함함\n"
   ]
  },
  {
   "cell_type": "code",
   "execution_count": null,
   "metadata": {},
   "outputs": [],
   "source": [
    "plt.imshow(image_rgb)\n",
    "plt.axis('on')         # 축 출력\n"
   ]
  },
  {
   "cell_type": "markdown",
   "metadata": {},
   "source": [
    "이미지 전처리리\n",
    "1) 평균블러 ㅡ blur(img, (홀수, 홀수))\n",
    "2) 가우시안블러 ㅡ GaussianBlur(img, (홀수, 홀수), 0)  : 마지막 매개변수는 방향 표준편차\n",
    "3) 미디언블러러 ㅡ medianBlur(img, (홀수))"
   ]
  },
  {
   "cell_type": "code",
   "execution_count": null,
   "metadata": {},
   "outputs": [],
   "source": [
    "# 평균블러\n",
    "plt.figure(figsize=(10, 5))\n",
    "plt.subplot(1,3,1)\n",
    "plt.imshow(image_rgb)\n",
    "plt.title(\"original\")\n",
    "plt.axis('off')\n",
    "\n",
    "plt.subplot(1,3,2)\n",
    "blurred = cv2.blur(image_rgb, (5,5))\n",
    "plt.imshow(blurred)\n",
    "plt.title(\"blurred 5x5\")\n",
    "plt.axis(\"off\")\n",
    "\n",
    "plt.subplot(1,3,3)\n",
    "blurred = cv2.blur(image_rgb, (10,10))\n",
    "plt.imshow(blurred)\n",
    "plt.title(\"blurred 10x10\")\n",
    "plt.axis(\"off\")"
   ]
  },
  {
   "cell_type": "code",
   "execution_count": null,
   "metadata": {},
   "outputs": [],
   "source": [
    "# 가우시안 블러 : 평균블러보다 좀더 자연스러움\n",
    "\n",
    "plt.figure(figsize=(10, 5))\n",
    "plt.subplot(1,3,1)\n",
    "plt.imshow(image_rgb)\n",
    "plt.title(\"original\")\n",
    "plt.axis('off')\n",
    "\n",
    "plt.subplot(1,3,2)\n",
    "plt.imshow(blurred)\n",
    "plt.title(\"Average blurred 5x5\")\n",
    "plt.axis(\"off\")\n",
    "\n",
    "plt.subplot(1,3,3)\n",
    "gaussian_blur = cv2.GaussianBlur(image_rgb, (5, 5), 0)\n",
    "plt.imshow(gaussian_blur)\n",
    "plt.title(\"Gaussian blurred 5x5\")\n",
    "plt.axis(\"off\")"
   ]
  },
  {
   "cell_type": "code",
   "execution_count": 26,
   "metadata": {},
   "outputs": [],
   "source": [
    "# matplotlib 한글 설정\n",
    "# 기본적으로 matplotlib은 한글 지원이 안되서 설정안하면 한글이 깨짐\n",
    "import matplotlib.pyplot as plt\n",
    "from matplotlib import font_manager\n",
    "path =  'C:\\\\Windows\\\\Fonts\\\\KoPubDotumLight.ttf'\n",
    "font = font_manager.FontProperties(fname=path).get_name()\n",
    "plt.rc('font', family=font)"
   ]
  },
  {
   "cell_type": "code",
   "execution_count": null,
   "metadata": {},
   "outputs": [],
   "source": [
    "# 미디안블러\n",
    "plt.figure(figsize=(10, 10))\n",
    "plt.subplot(2,2,1)\n",
    "plt.imshow(image_rgb)\n",
    "plt.title(\"original\")\n",
    "plt.axis('off')\n",
    "\n",
    "plt.subplot(2,2,2)\n",
    "plt.imshow(blurred)\n",
    "plt.title(\"Average blurred 5x5\")\n",
    "plt.axis(\"off\")\n",
    "\n",
    "plt.subplot(2,2, 3)\n",
    "gaussian_blur = cv2.GaussianBlur(image_rgb, (5, 5), 0)\n",
    "plt.imshow(gaussian_blur)\n",
    "plt.title(\"Gaussian blurred 5x5\")\n",
    "plt.axis(\"off\")\n",
    "\n",
    "plt.subplot(2,2, 4)\n",
    "median_blur = cv2.medianBlur(image_rgb, (5))\n",
    "plt.imshow(median_blur)\n",
    "plt.title(\"Median blurred 5\")\n",
    "plt.axis(\"off\")"
   ]
  },
  {
   "cell_type": "markdown",
   "metadata": {},
   "source": [
    "이미지 전처리\n",
    "1) 샤프닝 필터\n",
    "2) 엣지 강조\n"
   ]
  },
  {
   "cell_type": "code",
   "execution_count": 30,
   "metadata": {},
   "outputs": [],
   "source": [
    "import numpy as np      # 커널(array)을 정의 하기 위해서"
   ]
  },
  {
   "cell_type": "code",
   "execution_count": 31,
   "metadata": {},
   "outputs": [],
   "source": [
    "# 샤프닝 커널\n",
    "kernel = np.array([[0, -1, 0],\n",
    "                   [-1, 5, -1],     # 2행 2열값이 상대적으로 클 수록 샤프닝효과 up\n",
    "                   [0, -1, 0]])"
   ]
  },
  {
   "cell_type": "code",
   "execution_count": null,
   "metadata": {},
   "outputs": [],
   "source": [
    "# 필터 적용\n",
    "plt.figure(figsize=(10, 10))\n",
    "plt.subplot(2,2,1)\n",
    "plt.imshow(image_rgb)\n",
    "plt.title(\"original\")\n",
    "plt.axis('off')\n",
    "\n",
    "plt.subplot(2,2,3)\n",
    "sharped = cv2.filter2D(image_rgb, -1, kernel)\n",
    "plt.imshow(sharped)\n",
    "plt.title(\"Sharped x original k:3x3\")\n",
    "plt.axis(\"off\")\n",
    "\n",
    "plt.subplot(2,2,4)\n",
    "sharped = cv2.filter2D(median_blur, -1, kernel)\n",
    "plt.imshow(sharped)\n",
    "plt.title(\"Sharped x median blur k:3x3\")\n",
    "plt.axis(\"off\")"
   ]
  },
  {
   "cell_type": "markdown",
   "metadata": {},
   "source": [
    "엣지 검출\n",
    "1) Canny\n",
    "2) sobel (1차 미분)\n",
    "3) Laplacian (2차 미분분)"
   ]
  },
  {
   "cell_type": "code",
   "execution_count": null,
   "metadata": {},
   "outputs": [],
   "source": [
    "# sobel 필터\n",
    "img_gray = cv2.cvtColor(image, cv2.COLOR_RGB2GRAY)\n",
    "sobel_x = cv2.Sobel(img_gray, cv2.CV_64F, 1, 0, ksize=3)   # x축 방향 미분\n",
    "sobel_y = cv2.Sobel(img_gray, cv2.CV_64F, 0, 1, ksize=3)   # y축 방향 미분\n",
    "                    # CV_64F : 64비트 float(부동소수점) 고정 상수\n",
    "                    # 8D : -127~128\n",
    "                    # 8U : 0~255\n",
    "                    # 정밀해야 하기 때문에 대부분 64F를 사용\n",
    "\n",
    "# 결과 결합\n",
    "sobel_combined = cv2.magnitude(sobel_x, sobel_y)        # magnitude: 벡터의 절대값 계산\n",
    "\n",
    "# 원본과 비교 출력\n",
    "# 필터 적용\n",
    "plt.figure(figsize=(10, 10))\n",
    "plt.subplot(1,3,1)\n",
    "plt.imshow(img_gray)\n",
    "plt.title(\"original_gray\")\n",
    "plt.axis('off')\n",
    "\n",
    "plt.subplot(1,3,2)\n",
    "plt.imshow(img_gray, cmap='gray')\n",
    "plt.title(\"original_gray\")\n",
    "plt.axis('off')\n",
    "\n",
    "plt.subplot(1,3, 3)\n",
    "plt.imshow(sobel_combined)          # 엣지만 라인으로 출력\n",
    "plt.title(\"sobel w/gray k:3\")\n",
    "plt.axis(\"off\")"
   ]
  },
  {
   "cell_type": "code",
   "execution_count": null,
   "metadata": {},
   "outputs": [],
   "source": [
    "# Laplacian 필터\n",
    "laplacian = cv2.Laplacian(img_gray, cv2.CV_64F)\n",
    "\n",
    "# 원본과 비교 출력\n",
    "# 필터 적용\n",
    "plt.figure(figsize=(10, 10))\n",
    "plt.subplot(2,2,1)\n",
    "plt.imshow(img_gray, cmap='gray')\n",
    "plt.title(\"original_gray\")\n",
    "plt.axis('off')\n",
    "\n",
    "plt.subplot(2,2, 2)\n",
    "plt.imshow(sobel_combined)          # 엣지만 라인으로 출력\n",
    "plt.title(\"sobel w/gray k:3\")\n",
    "plt.axis(\"off\")\n",
    "\n",
    "plt.subplot(2,2, 3)\n",
    "plt.imshow(laplacian)                # 엣지만 라인으로 출력\n",
    "plt.title(\"Laplacian w/gray k:3\")\n",
    "plt.axis(\"off\")\n",
    "\n",
    "dog=cv2.imread(r\"C:\\Users\\praye\\Documents\\Bootcamp\\energy_1\\raw data\\dog_cat.jpg\", \n",
    "                 cv2.IMREAD_COLOR)\n",
    "dog_gray = cv2.cvtColor(dog,  cv2.COLOR_RGB2GRAY)\n",
    "\n",
    "laplacian_dog = cv2.Laplacian(dog_gray, cv2.CV_64F)\n",
    "plt.subplot(2,2, 4)\n",
    "plt.imshow(laplacian_dog)                # 엣지만 라인으로 출력\n",
    "plt.title(\"Laplacian w/gray k:3\")\n",
    "plt.axis(\"off\")\n"
   ]
  },
  {
   "cell_type": "code",
   "execution_count": null,
   "metadata": {},
   "outputs": [],
   "source": [
    "# Canny 엣지 검출\n",
    "\n",
    "\n",
    "# 원본과 비교 출력\n",
    "plt.figure(figsize=(10, 10))\n",
    "plt.subplot(3,2,1)\n",
    "plt.imshow(img_gray, cmap='gray')\n",
    "plt.title(\"original_gray\")\n",
    "plt.axis('off')\n",
    "\n",
    "plt.subplot(3,2, 2)\n",
    "plt.imshow(sobel_combined)          # sobel\n",
    "plt.title(\"sobel w/gray k:3\")\n",
    "plt.axis(\"off\")\n",
    "\n",
    "plt.subplot(3,2, 3)\n",
    "plt.imshow(laplacian)                # Laplacian\n",
    "plt.title(\"Laplacian w/gray k:3\")\n",
    "plt.axis(\"off\")\n",
    "\n",
    "edges_1 = cv2.Canny(img_gray, 100, 100)   # (img, min, max)\n",
    "plt.subplot(3,2, 5)\n",
    "plt.imshow(edges_1)                # Canny max:200\n",
    "plt.title(\"Canny max:200 k:3\")\n",
    "plt.axis(\"off\")\n",
    "\n",
    "edges_2 = cv2.Canny(img_gray, 100, 500)   # (img, min, max)\n",
    "plt.subplot(3,2, 6)\n",
    "plt.imshow(edges_2)                # Canny max:500\n",
    "plt.title(\"Canny max:500 k:3\")\n",
    "plt.axis(\"off\")"
   ]
  },
  {
   "cell_type": "markdown",
   "metadata": {},
   "source": [
    "컨투어 (이미지 검출)"
   ]
  },
  {
   "cell_type": "code",
   "execution_count": null,
   "metadata": {},
   "outputs": [],
   "source": [
    "# 이미지 이진화 처리\n",
    "_, binary = cv2.threshold(img_gray, 127, 255, cv2.THRESH_BINARY)\n",
    "\n",
    "# 컨투어 감지\n",
    "countours, hierarchy = cv2.findContours(binary, cv2.RETR_TREE, cv2.CHAIN_APPROX_SIMPLE)\n",
    "# cv2.RETR_TREE : 계층적으로 모든 컨투어 탐지\n",
    "# cv2.CHAIN_APPROX_SIMPLE : 직선만 저장\n",
    "\n",
    "# 원본x컨투어\n",
    "results_img = image.copy()\n",
    "cv2.drawContours(results_img, countours, -1, (255, 0, 0), 2)\n",
    "results_img = cv2.cvtColor(results_img, cv2.COLOR_BGR2RGB)\n",
    "plt.imshow(results_img)\n"
   ]
  },
  {
   "cell_type": "code",
   "execution_count": null,
   "metadata": {},
   "outputs": [],
   "source": [
    "# 원본과 비교 출력\n",
    "plt.figure(figsize=(10, 10))\n",
    "plt.subplot(1,3,1)\n",
    "plt.imshow(img_gray, cmap='gray')\n",
    "plt.title(\"original_gray\")\n",
    "plt.axis('off')\n",
    "\n",
    "plt.subplot(1, 3, 2)\n",
    "plt.imshow(edges_1)                # 엣지만 라인으로 출력\n",
    "plt.title(\"Canny max:200 k:3\")\n",
    "plt.axis(\"off\")\n",
    "\n",
    "plt.subplot(1, 3, 3)\n",
    "plt.imshow(results_img)                # 엣지만 라인으로 출력\n",
    "plt.title(\"Canny max:500 k:3\")\n",
    "plt.axis(\"off\")"
   ]
  },
  {
   "cell_type": "code",
   "execution_count": null,
   "metadata": {},
   "outputs": [],
   "source": [
    "# 이미지 이진화 처리\n",
    "_, binary = cv2.threshold(img_gray, 127, 255, cv2.THRESH_BINARY)\n",
    "\n",
    "# 컨투어 감지\n",
    "countours, _ = cv2.findContours(binary, cv2.RETR_TREE, cv2.CHAIN_APPROX_SIMPLE)\n",
    "results_img = image.copy()\n",
    "\n",
    "# 면적계산\n",
    "for countour in countours:\n",
    "    # print(f\"면적 : {cv2.contourArea(countour)}\")\n",
    "    \n",
    "    M = cv2.moments(countour)\n",
    "    if M['m00'] != 0:           # m00 : 면적\n",
    "        # cx : circle_x , cy : circle_y\n",
    "        cx = int(M['m10']/ M['m00'])     # x기준 중심심\n",
    "        cy = int(M['m01']/ M['m00'])     # y기준 중심심\n",
    "        cv2.circle(results_img, (cx, cy), 5, (0, 0, 0), -1)   # 객체 중심에 검은점 생성\n",
    "        # 둘레계산\n",
    "        # print(\"둘레길이 : \", cv2.arcLength(countour, True))     # T:폐곡선여부\n",
    "    else : \n",
    "        print(\"컨투어 면적 : 0\")\n",
    "\n",
    "    # 컨투어 그리기\n",
    "    cv2.drawContours(results_img, [countour], -1, (0, 255, 0), 2)   # 객체 테두리에 녹색선 생성 (R, G, B)\n",
    "plt.imshow(results_img)\n",
    "plt.title(\"Contours\")\n",
    "plt.axis(\"off\")\n",
    "\n",
    "\n"
   ]
  },
  {
   "cell_type": "markdown",
   "metadata": {},
   "source": [
    "영상연결"
   ]
  },
  {
   "cell_type": "code",
   "execution_count": 72,
   "metadata": {},
   "outputs": [],
   "source": [
    "cap = cv2.VideoCapture(0)\n",
    "# 0 : 웹캠\n",
    "# 영상파일 경로를 넣어도 됨\n",
    "\n",
    "codec = cv2.VideoWriter_fourcc(*'XVID')\n",
    "out = cv2.VideoWriter('./results/output.avi', codec, 20.0, (640, 480))\n",
    "while cap.isOpened():\n",
    "    ret, frame = cap.read()\n",
    "    if not ret:\n",
    "        print(\"프레임을 읽지 못했습니다.\")\n",
    "        break\n",
    "\n",
    "    out.write(frame)\n",
    "    cv2.imshow(\"video\", frame)\n",
    "    \n",
    "    # 종료조건\n",
    "    if cv2.waitKey(1) & 0xFF==ord('q'):\n",
    "        break\n",
    "\n",
    "cap.release()               # 비디오캡쳐 해제\n",
    "out.release()               # 비디오캡쳐 해제\n",
    "cv2.destroyAllWindows()     # 윈도우창 닫기\n",
    "\n",
    "# 윈도우플레이어 레거시는 코덱으로 제대로 플레이가 안되는 듯\n",
    "# 다른 영상플레이어 프로그램에서는 녹화영상 제대로 플레이 됨\n"
   ]
  },
  {
   "cell_type": "code",
   "execution_count": null,
   "metadata": {},
   "outputs": [],
   "source": [
    "import cv2\n",
    "import matplotlib.pyplot as plt\n",
    "cap = cv2.VideoCapture(0)\n",
    "# 0 : 웹캠\n",
    "# 영상파일 경로를 넣어도 됨\n",
    "\n",
    "# codec = cv2.VideoWriter_fourcc(*'XVID')\n",
    "# out = cv2.VideoWriter('./results/output.avi', codec, 20.0, (640, 480))\n",
    "plt.ion()       # 인터렉티드 모드 : 창이 열린 상태로 코드가 계속 실행됨됨\n",
    "while cap.isOpened():\n",
    "    ret, frame = cap.read()\n",
    "    if not ret:\n",
    "        print(\"프레임을 읽지 못했습니다.\")\n",
    "        break\n",
    "\n",
    "    # 원본\n",
    "    original = frame.copy()\n",
    "\n",
    "    # 가우시안 블러\n",
    "    gaussian = cv2.GaussianBlur(frame, (7, 7), 0)\n",
    "\n",
    "    # 출력\n",
    "    plt.subplot(2,2,1)\n",
    "    plt.imshow(cv2.cvtColor(original, cv2.COLOR_BGR2RGB))\n",
    "    plt.title(\"Original\")\n",
    "    plt.axis('off')\n",
    "\n",
    "    plt.subplot(2,2,2)\n",
    "    plt.imshow(cv2.cvtColor(gaussian, cv2.COLOR_BGR2RGB))\n",
    "    plt.title(\"Gaussian\")\n",
    "    plt.axis('off')\n",
    "    \n",
    "    plt.pause(0.001)    # 창을 잠시 멈춤  (0.001:1밀리초초)\n",
    "    plt.clf()           # 창에 있는 것 초기화\n",
    "\n",
    "    # 종료조건 (이 방식으로는 안꺼짐)\n",
    "    # if cv2.waitKey(1) & 0xFF==ord('q'):\n",
    "    #     break\n",
    "\n",
    "    # 종료조건\n",
    "    key = cv2.waitKey(1)\n",
    "    if key == ord('q'):\n",
    "        break\n",
    "\n",
    "\n",
    "cap.release()               # 비디오캡쳐 해제\n",
    "# out.release()               # 비디오캡쳐 해제\n",
    "cv2.destroyAllWindows()     # 윈도우창 닫기\n",
    "plt.close()\n",
    "\n",
    "# 윈도우플레이어 레거시는 코덱으로 제대로 플레이가 안되는 듯\n",
    "# 다른 영상플레이어 프로그램에서는 녹화영상 제대로 플레이 됨\n"
   ]
  },
  {
   "cell_type": "code",
   "execution_count": null,
   "metadata": {},
   "outputs": [],
   "source": []
  }
 ],
 "metadata": {
  "kernelspec": {
   "display_name": "kdt_energy1_1",
   "language": "python",
   "name": "python3"
  },
  "language_info": {
   "codemirror_mode": {
    "name": "ipython",
    "version": 3
   },
   "file_extension": ".py",
   "mimetype": "text/x-python",
   "name": "python",
   "nbconvert_exporter": "python",
   "pygments_lexer": "ipython3",
   "version": "3.12.7"
  }
 },
 "nbformat": 4,
 "nbformat_minor": 2
}
