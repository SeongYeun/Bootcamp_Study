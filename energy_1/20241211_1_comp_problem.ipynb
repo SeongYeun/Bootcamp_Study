{
 "cells": [
  {
   "cell_type": "code",
   "execution_count": 14,
   "metadata": {},
   "outputs": [
    {
     "data": {
      "text/plain": [
       "'\\n# 종합실습. 데이터 분석 후 그래프 그리기\\nfrom pydataset import data\\nimport pandas as pd\\nfrom matplotlib import font_manager\\nimport matplotlib.pyplot as plt\\nimport seaborn as sns\\npath =  \\'C:\\\\Windows\\\\Fonts\\\\KoPubDotumLight.ttf\\'\\nfont = font_manager.FontProperties(fname=path).get_name()\\nplt.rc(\\'font\\', family=font)\\ndf = data(\\'mtcars\\')\\n# df.head(3)\\n\\n\\n# 1) 자동차 실린더 수(cyl)에 따른 평균 연비(mpg)의 막대그래프\\navg_mpg=df.groupby(\\'cyl\\')[\\'mpg\\'].mean().reset_index()\\nsns.catplot(y=\\'mpg\\', hue=\\'cyl\\', data=avg_mpg, \\n            kind=\\'bar\\', errorbar=None)\\nplt.title(\"1) 자동차 실린더 수(cyl)에 따른 평균 연비(mpg)\", fontsize=15)\\n\\n\\n# 2) 자동차 변속기 유형(am)별 평균 마력(hp)의 막대그래프\\navg_hp=df.groupby(\\'am\\')[\\'hp\\'].mean().reset_index()\\nsns.catplot(y=\\'hp\\', hue=\\'am\\', data=avg_hp, \\n            kind=\\'bar\\', errorbar=None)\\nplt.title(\"2) 자동차 변속기 유형(am)별 평균 마력(hp)\", fontsize=15)\\n\\n\\n# 3) 실린더 수(cyl)을 기준으로 기어 수(gear)에 따른 평균 연비(mpg)를 계산하는 표 재생성 후 히트맵 시각화\\n# 3-1) 표 재생산 (pivot_table)\\ngroupped = df.groupby([\\'cyl\\', \\'gear\\'])[\\'mpg\\'].mean().reset_index()\\npivot = groupped.pivot(index=\\'cyl\\', columns=\\'gear\\', values=\\'mpg\\')\\n# 3-2) 히트맵 시각화\\nsns.heatmap(pivot, annot=True, fmt=\".1f\")\\nplt.title(\"3) 실린더 수(cyl)을 기준의 기어 수(gear)에 따른 평균 연비(mpg)\", \\n          fontsize=15, pad=20)\\n\\n\\n# 4) 연비(mpg), 마력(hp), 무게(wt)간의 상관관계를 확인하고\\n#    상관행렬을 히트맵으로 시각화 (상관관계 메서드 corr())\\n# 4-1) 상관관계 확인\\ncorr_ = df[[\\'mpg\\', \\'hp\\', \\'wt\\']].corr()\\n# 4-2) 상관관계의 히트맵 시각화\\nsns.heatmap(corr_, annot=True, fmt=\".3f\")\\nplt.title(\"4) 연비(mpg), 마력(hp), 무게(wt)간의 상관관계\", \\n          fontsize=15, pad=20)\\n'"
      ]
     },
     "execution_count": 14,
     "metadata": {},
     "output_type": "execute_result"
    }
   ],
   "source": [
    "\"\"\"\n",
    "# 종합실습. 데이터 분석 후 그래프 그리기\n",
    "from pydataset import data\n",
    "import pandas as pd\n",
    "from matplotlib import font_manager\n",
    "import matplotlib.pyplot as plt\n",
    "import seaborn as sns\n",
    "path =  'C:\\\\Windows\\\\Fonts\\\\KoPubDotumLight.ttf'\n",
    "font = font_manager.FontProperties(fname=path).get_name()\n",
    "plt.rc('font', family=font)\n",
    "df = data('mtcars')\n",
    "# df.head(3)\n",
    "\n",
    "\n",
    "# 1) 자동차 실린더 수(cyl)에 따른 평균 연비(mpg)의 막대그래프\n",
    "avg_mpg=df.groupby('cyl')['mpg'].mean().reset_index()\n",
    "sns.catplot(y='mpg', hue='cyl', data=avg_mpg, \n",
    "            kind='bar', errorbar=None)\n",
    "plt.title(\"1) 자동차 실린더 수(cyl)에 따른 평균 연비(mpg)\", fontsize=15)\n",
    "\n",
    "\n",
    "# 2) 자동차 변속기 유형(am)별 평균 마력(hp)의 막대그래프\n",
    "avg_hp=df.groupby('am')['hp'].mean().reset_index()\n",
    "sns.catplot(y='hp', hue='am', data=avg_hp, \n",
    "            kind='bar', errorbar=None)\n",
    "plt.title(\"2) 자동차 변속기 유형(am)별 평균 마력(hp)\", fontsize=15)\n",
    "\n",
    "\n",
    "# 3) 실린더 수(cyl)을 기준으로 기어 수(gear)에 따른 평균 연비(mpg)를 계산하는 표 재생성 후 히트맵 시각화\n",
    "# 3-1) 표 재생산 (pivot_table)\n",
    "groupped = df.groupby(['cyl', 'gear'])['mpg'].mean().reset_index()\n",
    "pivot = groupped.pivot(index='cyl', columns='gear', values='mpg')\n",
    "# 3-2) 히트맵 시각화\n",
    "sns.heatmap(pivot, annot=True, fmt=\".1f\")\n",
    "plt.title(\"3) 실린더 수(cyl)을 기준의 기어 수(gear)에 따른 평균 연비(mpg)\", \n",
    "          fontsize=15, pad=20)\n",
    "\n",
    "\n",
    "# 4) 연비(mpg), 마력(hp), 무게(wt)간의 상관관계를 확인하고\n",
    "#    상관행렬을 히트맵으로 시각화 (상관관계 메서드 corr())\n",
    "# 4-1) 상관관계 확인\n",
    "corr_ = df[['mpg', 'hp', 'wt']].corr()\n",
    "# 4-2) 상관관계의 히트맵 시각화\n",
    "sns.heatmap(corr_, annot=True, fmt=\".3f\")\n",
    "plt.title(\"4) 연비(mpg), 마력(hp), 무게(wt)간의 상관관계\", \n",
    "          fontsize=15, pad=20)\n",
    "\"\"\"\n"
   ]
  },
  {
   "cell_type": "code",
   "execution_count": 15,
   "metadata": {},
   "outputs": [
    {
     "data": {
      "text/html": [
       "<div>\n",
       "<style scoped>\n",
       "    .dataframe tbody tr th:only-of-type {\n",
       "        vertical-align: middle;\n",
       "    }\n",
       "\n",
       "    .dataframe tbody tr th {\n",
       "        vertical-align: top;\n",
       "    }\n",
       "\n",
       "    .dataframe thead th {\n",
       "        text-align: right;\n",
       "    }\n",
       "</style>\n",
       "<table border=\"1\" class=\"dataframe\">\n",
       "  <thead>\n",
       "    <tr style=\"text-align: right;\">\n",
       "      <th></th>\n",
       "      <th>mpg</th>\n",
       "      <th>cyl</th>\n",
       "      <th>disp</th>\n",
       "      <th>hp</th>\n",
       "      <th>drat</th>\n",
       "      <th>wt</th>\n",
       "      <th>qsec</th>\n",
       "      <th>vs</th>\n",
       "      <th>am</th>\n",
       "      <th>gear</th>\n",
       "      <th>carb</th>\n",
       "    </tr>\n",
       "  </thead>\n",
       "  <tbody>\n",
       "    <tr>\n",
       "      <th>Mazda RX4</th>\n",
       "      <td>21.0</td>\n",
       "      <td>6</td>\n",
       "      <td>160.0</td>\n",
       "      <td>110</td>\n",
       "      <td>3.90</td>\n",
       "      <td>2.620</td>\n",
       "      <td>16.46</td>\n",
       "      <td>0</td>\n",
       "      <td>1</td>\n",
       "      <td>4</td>\n",
       "      <td>4</td>\n",
       "    </tr>\n",
       "    <tr>\n",
       "      <th>Mazda RX4 Wag</th>\n",
       "      <td>21.0</td>\n",
       "      <td>6</td>\n",
       "      <td>160.0</td>\n",
       "      <td>110</td>\n",
       "      <td>3.90</td>\n",
       "      <td>2.875</td>\n",
       "      <td>17.02</td>\n",
       "      <td>0</td>\n",
       "      <td>1</td>\n",
       "      <td>4</td>\n",
       "      <td>4</td>\n",
       "    </tr>\n",
       "    <tr>\n",
       "      <th>Datsun 710</th>\n",
       "      <td>22.8</td>\n",
       "      <td>4</td>\n",
       "      <td>108.0</td>\n",
       "      <td>93</td>\n",
       "      <td>3.85</td>\n",
       "      <td>2.320</td>\n",
       "      <td>18.61</td>\n",
       "      <td>1</td>\n",
       "      <td>1</td>\n",
       "      <td>4</td>\n",
       "      <td>1</td>\n",
       "    </tr>\n",
       "  </tbody>\n",
       "</table>\n",
       "</div>"
      ],
      "text/plain": [
       "                mpg  cyl   disp   hp  drat     wt   qsec  vs  am  gear  carb\n",
       "Mazda RX4      21.0    6  160.0  110  3.90  2.620  16.46   0   1     4     4\n",
       "Mazda RX4 Wag  21.0    6  160.0  110  3.90  2.875  17.02   0   1     4     4\n",
       "Datsun 710     22.8    4  108.0   93  3.85  2.320  18.61   1   1     4     1"
      ]
     },
     "execution_count": 15,
     "metadata": {},
     "output_type": "execute_result"
    }
   ],
   "source": [
    "# 종합실습. 데이터 분석 후 그래프 그리기\n",
    "from pydataset import data\n",
    "import pandas as pd\n",
    "from matplotlib import font_manager\n",
    "import matplotlib.pyplot as plt\n",
    "import seaborn as sns\n",
    "path =  'C:\\\\Windows\\\\Fonts\\\\KoPubDotumLight.ttf'\n",
    "font = font_manager.FontProperties(fname=path).get_name()\n",
    "plt.rc('font', family=font)\n",
    "df = data('mtcars')\n",
    "df.head(3)"
   ]
  },
  {
   "cell_type": "code",
   "execution_count": 16,
   "metadata": {},
   "outputs": [
    {
     "name": "stdout",
     "output_type": "stream",
     "text": [
      "<class 'pandas.core.frame.DataFrame'>\n",
      "Index: 32 entries, Mazda RX4 to Volvo 142E\n",
      "Data columns (total 11 columns):\n",
      " #   Column  Non-Null Count  Dtype  \n",
      "---  ------  --------------  -----  \n",
      " 0   mpg     32 non-null     float64\n",
      " 1   cyl     32 non-null     int64  \n",
      " 2   disp    32 non-null     float64\n",
      " 3   hp      32 non-null     int64  \n",
      " 4   drat    32 non-null     float64\n",
      " 5   wt      32 non-null     float64\n",
      " 6   qsec    32 non-null     float64\n",
      " 7   vs      32 non-null     int64  \n",
      " 8   am      32 non-null     int64  \n",
      " 9   gear    32 non-null     int64  \n",
      " 10  carb    32 non-null     int64  \n",
      "dtypes: float64(5), int64(6)\n",
      "memory usage: 3.0+ KB\n"
     ]
    }
   ],
   "source": [
    "df.info()"
   ]
  },
  {
   "cell_type": "code",
   "execution_count": 17,
   "metadata": {},
   "outputs": [
    {
     "data": {
      "text/plain": [
       "Text(0.5, 1.0, '1) 자동차 실린더 수(cyl)에 따른 평균 연비(mpg)')"
      ]
     },
     "execution_count": 17,
     "metadata": {},
     "output_type": "execute_result"
    },
    {
     "data": {
      "image/png": "[encoded data removed]",
      "text/plain": [
       "<Figure size 557.875x500 with 1 Axes>"
      ]
     },
     "metadata": {},
     "output_type": "display_data"
    }
   ],
   "source": [
    "# 1) 자동차 실린더 수(cyl)에 따른 평균 연비(mpg)의 막대그래프\n",
    "avg_mpg=df.groupby('cyl')['mpg'].mean().reset_index()\n",
    "sns.catplot(y='mpg', hue='cyl', data=avg_mpg, \n",
    "            kind='bar', errorbar=None)\n",
    "plt.title(\"1) 자동차 실린더 수(cyl)에 따른 평균 연비(mpg)\", fontsize=15)\n"
   ]
  },
  {
   "cell_type": "code",
   "execution_count": 18,
   "metadata": {},
   "outputs": [
    {
     "data": {
      "text/plain": [
       "(array([0, 1, 2]), [Text(0, 0, '4'), Text(1, 0, '6'), Text(2, 0, '8')])"
      ]
     },
     "execution_count": 18,
     "metadata": {},
     "output_type": "execute_result"
    },
    {
     "data": {
      "image/png": "[encoded data removed]",
      "text/plain": [
       "<Figure size 640x480 with 1 Axes>"
      ]
     },
     "metadata": {},
     "output_type": "display_data"
    }
   ],
   "source": [
    "\"\"\" 리더님 코드\n",
    "# 방법1)\n",
    "plt.bar(avg_mpg['cyl'], avg_mpg['mpg'])\n",
    "\"\"\"\n",
    "# 방법2)\n",
    "a=df.groupby('cyl')['mpg'].mean()\n",
    "a.plot(kind='bar')\n",
    "plt.xticks(rotation=0)"
   ]
  },
  {
   "cell_type": "code",
   "execution_count": 19,
   "metadata": {},
   "outputs": [
    {
     "data": {
      "text/plain": [
       "'추가 연습코드\\n# 1) 자동차 실린더 수(cyl)에 따른 평균 연비(mpg)의 막대그래프\\navg_mpg=df.groupby(\\'cyl\\')[\\'mpg\\'].mean().reset_index()\\nsns.set_style(\\'ticks\\')\\nsns.catplot(y=\\'mpg\\', hue=\\'cyl\\', data=avg_mpg, )\\nplt.title(\"1) 자동차 실린더 수(cyl)에 따른 평균 연비(mpg)\", fontsize=15)\\n'"
      ]
     },
     "execution_count": 19,
     "metadata": {},
     "output_type": "execute_result"
    }
   ],
   "source": [
    "\"\"\"추가 연습코드\n",
    "# 1) 자동차 실린더 수(cyl)에 따른 평균 연비(mpg)의 막대그래프\n",
    "avg_mpg=df.groupby('cyl')['mpg'].mean().reset_index()\n",
    "sns.set_style('ticks')\n",
    "sns.catplot(y='mpg', hue='cyl', data=avg_mpg, )\n",
    "plt.title(\"1) 자동차 실린더 수(cyl)에 따른 평균 연비(mpg)\", fontsize=15)\n",
    "\"\"\""
   ]
  },
  {
   "cell_type": "code",
   "execution_count": 20,
   "metadata": {},
   "outputs": [
    {
     "data": {
      "text/plain": [
       "Text(0.5, 1.0, '2) 자동차 변속기 유형(am)별 평균 마력(hp)')"
      ]
     },
     "execution_count": 20,
     "metadata": {},
     "output_type": "execute_result"
    },
    {
     "data": {
      "image/png": "[encoded data removed]",
      "text/plain": [
       "<Figure size 557.875x500 with 1 Axes>"
      ]
     },
     "metadata": {},
     "output_type": "display_data"
    }
   ],
   "source": [
    "# 2) 자동차 변속기 유형(am)별 평균 마력(hp)의 막대그래프\n",
    "avg_hp=df.groupby('am')['hp'].mean().reset_index()\n",
    "sns.catplot(y='hp', hue='am', data=avg_hp, \n",
    "            kind='bar', errorbar=None)\n",
    "plt.title(\"2) 자동차 변속기 유형(am)별 평균 마력(hp)\", fontsize=15)\n"
   ]
  },
  {
   "cell_type": "markdown",
   "metadata": {},
   "source": [
    "※ catplot과 relplot에서 palette (heatmap의 cmap과 유사) 사용 방법\n",
    "** hue와 palette를 같이 사용해야 함\n"
   ]
  },
  {
   "cell_type": "code",
   "execution_count": 21,
   "metadata": {},
   "outputs": [
    {
     "data": {
      "text/html": [
       "<div>\n",
       "<style scoped>\n",
       "    .dataframe tbody tr th:only-of-type {\n",
       "        vertical-align: middle;\n",
       "    }\n",
       "\n",
       "    .dataframe tbody tr th {\n",
       "        vertical-align: top;\n",
       "    }\n",
       "\n",
       "    .dataframe thead th {\n",
       "        text-align: right;\n",
       "    }\n",
       "</style>\n",
       "<table border=\"1\" class=\"dataframe\">\n",
       "  <thead>\n",
       "    <tr style=\"text-align: right;\">\n",
       "      <th>gear</th>\n",
       "      <th>3</th>\n",
       "      <th>4</th>\n",
       "      <th>5</th>\n",
       "    </tr>\n",
       "    <tr>\n",
       "      <th>cyl</th>\n",
       "      <th></th>\n",
       "      <th></th>\n",
       "      <th></th>\n",
       "    </tr>\n",
       "  </thead>\n",
       "  <tbody>\n",
       "    <tr>\n",
       "      <th>4</th>\n",
       "      <td>21.50</td>\n",
       "      <td>26.925</td>\n",
       "      <td>28.2</td>\n",
       "    </tr>\n",
       "    <tr>\n",
       "      <th>6</th>\n",
       "      <td>19.75</td>\n",
       "      <td>19.750</td>\n",
       "      <td>19.7</td>\n",
       "    </tr>\n",
       "    <tr>\n",
       "      <th>8</th>\n",
       "      <td>15.05</td>\n",
       "      <td>NaN</td>\n",
       "      <td>15.4</td>\n",
       "    </tr>\n",
       "  </tbody>\n",
       "</table>\n",
       "</div>"
      ],
      "text/plain": [
       "gear      3       4     5\n",
       "cyl                      \n",
       "4     21.50  26.925  28.2\n",
       "6     19.75  19.750  19.7\n",
       "8     15.05     NaN  15.4"
      ]
     },
     "execution_count": 21,
     "metadata": {},
     "output_type": "execute_result"
    }
   ],
   "source": [
    "# 3) 실린더 수(cyl)을 기준으로 기어 수(gear)에 따른 평균 연비(mpg)를 계산하는 표 재생성 후 히트맵 시각화\n",
    "# 3-1) 표 재생산 (pivot_table)\n",
    "groupped = df.groupby(['cyl', 'gear'])['mpg'].mean().reset_index()\n",
    "pivot = groupped.pivot(index='cyl', columns='gear', values='mpg')\n",
    "pivot\n"
   ]
  },
  {
   "cell_type": "code",
   "execution_count": 26,
   "metadata": {},
   "outputs": [
    {
     "data": {
      "text/plain": [
       "cyl  gear\n",
       "4    3        21.5\n",
       "     4       215.4\n",
       "     5        56.4\n",
       "6    3        39.5\n",
       "     4        79.0\n",
       "     5        19.7\n",
       "8    3       180.6\n",
       "     5        30.8\n",
       "Name: mpg, dtype: float64"
      ]
     },
     "execution_count": 26,
     "metadata": {},
     "output_type": "execute_result"
    }
   ],
   "source": [
    "df.groupby(['cyl', 'gear'])['mpg'].sum()"
   ]
  },
  {
   "cell_type": "code",
   "execution_count": 28,
   "metadata": {},
   "outputs": [
    {
     "data": {
      "text/plain": [
       "Mazda RX4               21.0\n",
       "Mazda RX4 Wag           42.0\n",
       "Datsun 710              22.8\n",
       "Hornet 4 Drive          21.4\n",
       "Hornet Sportabout       18.7\n",
       "Valiant                 39.5\n",
       "Duster 360              33.0\n",
       "Merc 240D               47.2\n",
       "Merc 230                70.0\n",
       "Merc 280                61.2\n",
       "Merc 280C               79.0\n",
       "Merc 450SE              49.4\n",
       "Merc 450SL              66.7\n",
       "Merc 450SLC             81.9\n",
       "Cadillac Fleetwood      92.3\n",
       "Lincoln Continental    102.7\n",
       "Chrysler Imperial      117.4\n",
       "Fiat 128               102.4\n",
       "Honda Civic            132.8\n",
       "Toyota Corolla         166.7\n",
       "Toyota Corona           21.5\n",
       "Dodge Challenger       132.9\n",
       "AMC Javelin            148.1\n",
       "Camaro Z28             161.4\n",
       "Pontiac Firebird       180.6\n",
       "Fiat X1-9              194.0\n",
       "Porsche 914-2           26.0\n",
       "Lotus Europa            56.4\n",
       "Ford Pantera L          15.8\n",
       "Ferrari Dino            19.7\n",
       "Maserati Bora           30.8\n",
       "Volvo 142E             215.4\n",
       "Name: mpg, dtype: float64"
      ]
     },
     "execution_count": 28,
     "metadata": {},
     "output_type": "execute_result"
    }
   ],
   "source": [
    "df.groupby(['cyl', 'gear'])['mpg'].cumsum()"
   ]
  },
  {
   "cell_type": "code",
   "execution_count": 27,
   "metadata": {},
   "outputs": [
    {
     "data": {
      "text/plain": [
       "cyl  gear\n",
       "4    3        1\n",
       "     4        8\n",
       "     5        2\n",
       "6    3        2\n",
       "     4        4\n",
       "     5        1\n",
       "8    3       12\n",
       "     5        2\n",
       "Name: mpg, dtype: int64"
      ]
     },
     "execution_count": 27,
     "metadata": {},
     "output_type": "execute_result"
    }
   ],
   "source": [
    "df.groupby(['cyl', 'gear'])['mpg'].size()"
   ]
  },
  {
   "cell_type": "code",
   "execution_count": 10,
   "metadata": {},
   "outputs": [
    {
     "data": {
      "text/plain": [
       "(Index([4, 6, 8], dtype='int64', name='cyl'),\n",
       " Index([3, 4, 5], dtype='int64', name='gear'))"
      ]
     },
     "execution_count": 10,
     "metadata": {},
     "output_type": "execute_result"
    }
   ],
   "source": [
    "pivot.index, pivot.columns"
   ]
  },
  {
   "cell_type": "code",
   "execution_count": 12,
   "metadata": {},
   "outputs": [
    {
     "data": {
      "text/plain": [
       "pandas.core.indexes.base.Index"
      ]
     },
     "execution_count": 12,
     "metadata": {},
     "output_type": "execute_result"
    }
   ],
   "source": [
    "type(pivot.index)"
   ]
  },
  {
   "cell_type": "code",
   "execution_count": 11,
   "metadata": {},
   "outputs": [
    {
     "data": {
      "text/plain": [
       "cyl\n",
       "4    76.625\n",
       "6    59.200\n",
       "8    30.450\n",
       "dtype: float64"
      ]
     },
     "execution_count": 11,
     "metadata": {},
     "output_type": "execute_result"
    }
   ],
   "source": [
    "pivot.sum(axis=1)"
   ]
  },
  {
   "cell_type": "code",
   "execution_count": 7,
   "metadata": {},
   "outputs": [
    {
     "data": {
      "text/html": [
       "<div>\n",
       "<style scoped>\n",
       "    .dataframe tbody tr th:only-of-type {\n",
       "        vertical-align: middle;\n",
       "    }\n",
       "\n",
       "    .dataframe tbody tr th {\n",
       "        vertical-align: top;\n",
       "    }\n",
       "\n",
       "    .dataframe thead th {\n",
       "        text-align: right;\n",
       "    }\n",
       "</style>\n",
       "<table border=\"1\" class=\"dataframe\">\n",
       "  <thead>\n",
       "    <tr style=\"text-align: right;\">\n",
       "      <th>gear</th>\n",
       "      <th>cyl</th>\n",
       "      <th>3</th>\n",
       "      <th>4</th>\n",
       "      <th>5</th>\n",
       "    </tr>\n",
       "  </thead>\n",
       "  <tbody>\n",
       "    <tr>\n",
       "      <th>0</th>\n",
       "      <td>4</td>\n",
       "      <td>21.50</td>\n",
       "      <td>26.925</td>\n",
       "      <td>28.2</td>\n",
       "    </tr>\n",
       "    <tr>\n",
       "      <th>1</th>\n",
       "      <td>6</td>\n",
       "      <td>19.75</td>\n",
       "      <td>19.750</td>\n",
       "      <td>19.7</td>\n",
       "    </tr>\n",
       "    <tr>\n",
       "      <th>2</th>\n",
       "      <td>8</td>\n",
       "      <td>15.05</td>\n",
       "      <td>NaN</td>\n",
       "      <td>15.4</td>\n",
       "    </tr>\n",
       "  </tbody>\n",
       "</table>\n",
       "</div>"
      ],
      "text/plain": [
       "gear  cyl      3       4     5\n",
       "0       4  21.50  26.925  28.2\n",
       "1       6  19.75  19.750  19.7\n",
       "2       8  15.05     NaN  15.4"
      ]
     },
     "execution_count": 7,
     "metadata": {},
     "output_type": "execute_result"
    }
   ],
   "source": [
    "pivot.reset_index()"
   ]
  },
  {
   "cell_type": "code",
   "execution_count": 175,
   "metadata": {},
   "outputs": [
    {
     "data": {
      "text/html": [
       "<div>\n",
       "<style scoped>\n",
       "    .dataframe tbody tr th:only-of-type {\n",
       "        vertical-align: middle;\n",
       "    }\n",
       "\n",
       "    .dataframe tbody tr th {\n",
       "        vertical-align: top;\n",
       "    }\n",
       "\n",
       "    .dataframe thead th {\n",
       "        text-align: right;\n",
       "    }\n",
       "</style>\n",
       "<table border=\"1\" class=\"dataframe\">\n",
       "  <thead>\n",
       "    <tr style=\"text-align: right;\">\n",
       "      <th>gear</th>\n",
       "      <th>3</th>\n",
       "      <th>4</th>\n",
       "      <th>5</th>\n",
       "    </tr>\n",
       "    <tr>\n",
       "      <th>cyl</th>\n",
       "      <th></th>\n",
       "      <th></th>\n",
       "      <th></th>\n",
       "    </tr>\n",
       "  </thead>\n",
       "  <tbody>\n",
       "    <tr>\n",
       "      <th>4</th>\n",
       "      <td>21.50</td>\n",
       "      <td>26.925</td>\n",
       "      <td>28.2</td>\n",
       "    </tr>\n",
       "    <tr>\n",
       "      <th>6</th>\n",
       "      <td>19.75</td>\n",
       "      <td>19.750</td>\n",
       "      <td>19.7</td>\n",
       "    </tr>\n",
       "    <tr>\n",
       "      <th>8</th>\n",
       "      <td>15.05</td>\n",
       "      <td>NaN</td>\n",
       "      <td>15.4</td>\n",
       "    </tr>\n",
       "  </tbody>\n",
       "</table>\n",
       "</div>"
      ],
      "text/plain": [
       "gear      3       4     5\n",
       "cyl                      \n",
       "4     21.50  26.925  28.2\n",
       "6     19.75  19.750  19.7\n",
       "8     15.05     NaN  15.4"
      ]
     },
     "execution_count": 175,
     "metadata": {},
     "output_type": "execute_result"
    }
   ],
   "source": [
    "\"\"\"리더님 코드\"\"\"\n",
    "cyl_gear = df.pivot_table(index='cyl', columns='gear', values='mpg', aggfunc='mean')\n",
    "cyl_gear"
   ]
  },
  {
   "cell_type": "code",
   "execution_count": 176,
   "metadata": {},
   "outputs": [
    {
     "data": {
      "text/plain": [
       "Text(0.5, 1.0, '3) 실린더 수(cyl)을 기준의 기어 수(gear)에 따른 평균 연비(mpg)')"
      ]
     },
     "execution_count": 176,
     "metadata": {},
     "output_type": "execute_result"
    },
    {
     "data": {
      "image/png": "[encoded data removed]",
      "text/plain": [
       "<Figure size 640x480 with 2 Axes>"
      ]
     },
     "metadata": {},
     "output_type": "display_data"
    }
   ],
   "source": [
    "# 3-2) 히트맵 시각화\n",
    "sns.heatmap(pivot, annot=True, fmt=\".1f\")\n",
    "plt.title(\"3) 실린더 수(cyl)을 기준의 기어 수(gear)에 따른 평균 연비(mpg)\", fontsize=15, pad=20)\n"
   ]
  },
  {
   "cell_type": "code",
   "execution_count": 177,
   "metadata": {},
   "outputs": [
    {
     "data": {
      "text/html": [
       "<div>\n",
       "<style scoped>\n",
       "    .dataframe tbody tr th:only-of-type {\n",
       "        vertical-align: middle;\n",
       "    }\n",
       "\n",
       "    .dataframe tbody tr th {\n",
       "        vertical-align: top;\n",
       "    }\n",
       "\n",
       "    .dataframe thead th {\n",
       "        text-align: right;\n",
       "    }\n",
       "</style>\n",
       "<table border=\"1\" class=\"dataframe\">\n",
       "  <thead>\n",
       "    <tr style=\"text-align: right;\">\n",
       "      <th></th>\n",
       "      <th>mpg</th>\n",
       "      <th>hp</th>\n",
       "      <th>wt</th>\n",
       "    </tr>\n",
       "  </thead>\n",
       "  <tbody>\n",
       "    <tr>\n",
       "      <th>Mazda RX4</th>\n",
       "      <td>21.0</td>\n",
       "      <td>110</td>\n",
       "      <td>2.620</td>\n",
       "    </tr>\n",
       "    <tr>\n",
       "      <th>Mazda RX4 Wag</th>\n",
       "      <td>21.0</td>\n",
       "      <td>110</td>\n",
       "      <td>2.875</td>\n",
       "    </tr>\n",
       "    <tr>\n",
       "      <th>Datsun 710</th>\n",
       "      <td>22.8</td>\n",
       "      <td>93</td>\n",
       "      <td>2.320</td>\n",
       "    </tr>\n",
       "    <tr>\n",
       "      <th>Hornet 4 Drive</th>\n",
       "      <td>21.4</td>\n",
       "      <td>110</td>\n",
       "      <td>3.215</td>\n",
       "    </tr>\n",
       "    <tr>\n",
       "      <th>Hornet Sportabout</th>\n",
       "      <td>18.7</td>\n",
       "      <td>175</td>\n",
       "      <td>3.440</td>\n",
       "    </tr>\n",
       "  </tbody>\n",
       "</table>\n",
       "</div>"
      ],
      "text/plain": [
       "                    mpg   hp     wt\n",
       "Mazda RX4          21.0  110  2.620\n",
       "Mazda RX4 Wag      21.0  110  2.875\n",
       "Datsun 710         22.8   93  2.320\n",
       "Hornet 4 Drive     21.4  110  3.215\n",
       "Hornet Sportabout  18.7  175  3.440"
      ]
     },
     "execution_count": 177,
     "metadata": {},
     "output_type": "execute_result"
    }
   ],
   "source": [
    "df[['mpg', 'hp', 'wt']].head()"
   ]
  },
  {
   "cell_type": "code",
   "execution_count": 178,
   "metadata": {},
   "outputs": [
    {
     "data": {
      "text/html": [
       "<div>\n",
       "<style scoped>\n",
       "    .dataframe tbody tr th:only-of-type {\n",
       "        vertical-align: middle;\n",
       "    }\n",
       "\n",
       "    .dataframe tbody tr th {\n",
       "        vertical-align: top;\n",
       "    }\n",
       "\n",
       "    .dataframe thead th {\n",
       "        text-align: right;\n",
       "    }\n",
       "</style>\n",
       "<table border=\"1\" class=\"dataframe\">\n",
       "  <thead>\n",
       "    <tr style=\"text-align: right;\">\n",
       "      <th></th>\n",
       "      <th>mpg</th>\n",
       "      <th>hp</th>\n",
       "      <th>wt</th>\n",
       "    </tr>\n",
       "  </thead>\n",
       "  <tbody>\n",
       "    <tr>\n",
       "      <th>mpg</th>\n",
       "      <td>1.000000</td>\n",
       "      <td>-0.776168</td>\n",
       "      <td>-0.867659</td>\n",
       "    </tr>\n",
       "    <tr>\n",
       "      <th>hp</th>\n",
       "      <td>-0.776168</td>\n",
       "      <td>1.000000</td>\n",
       "      <td>0.658748</td>\n",
       "    </tr>\n",
       "    <tr>\n",
       "      <th>wt</th>\n",
       "      <td>-0.867659</td>\n",
       "      <td>0.658748</td>\n",
       "      <td>1.000000</td>\n",
       "    </tr>\n",
       "  </tbody>\n",
       "</table>\n",
       "</div>"
      ],
      "text/plain": [
       "          mpg        hp        wt\n",
       "mpg  1.000000 -0.776168 -0.867659\n",
       "hp  -0.776168  1.000000  0.658748\n",
       "wt  -0.867659  0.658748  1.000000"
      ]
     },
     "execution_count": 178,
     "metadata": {},
     "output_type": "execute_result"
    }
   ],
   "source": [
    "# 4) 연비(mpg), 마력(hp), 무게(wt)간의 상관관계를 확인하고\n",
    "#    상관행렬을 히트맵으로 시각화 (상관관계 메서드 corr())\n",
    "#   :  대상 컬럼 슬라이싱  >  .corr() 메서드 연결\n",
    "#   : method : pearson(기본값) / spearman / kendall\n",
    "\n",
    "# 4-1) 상관관계 확인\n",
    "corr_ = df[['mpg', 'hp', 'wt']].corr()\n",
    "corr_"
   ]
  },
  {
   "cell_type": "code",
   "execution_count": 179,
   "metadata": {},
   "outputs": [
    {
     "data": {
      "text/plain": [
       "Text(0.5, 1.0, '4) 연비(mpg), 마력(hp), 무게(wt)간의 상관관계')"
      ]
     },
     "execution_count": 179,
     "metadata": {},
     "output_type": "execute_result"
    },
    {
     "data": {
      "image/png": "[encoded data removed]",
      "text/plain": [
       "<Figure size 640x480 with 2 Axes>"
      ]
     },
     "metadata": {},
     "output_type": "display_data"
    }
   ],
   "source": [
    "# 히트맵 음수에서 '-'표시 글자 깨짐 -> 해결 : 폰트 추가 설정\n",
    "# plt.rcParams['font.sans-serif']=['DejaVu Sans']     # 폰트를 DejaVu Sans로 설정 (없어도 제대로 표시되기는 함)\n",
    "plt.rcParams['axes.unicode_minus'] = False          # 유니코드 음수 기호가 제대로 표시되도록 설정\n",
    "\n",
    "# 4-2) 상관관계의 히트맵 시각화\n",
    "sns.heatmap(corr_, annot=True, fmt=\".3f\",       # annot : annotation : 각 셀에 데이터값 출력\n",
    "            cmap='twilight_shifted')\n",
    "plt.title(\"4) 연비(mpg), 마력(hp), 무게(wt)간의 상관관계\", fontsize=15, pad=20)\n"
   ]
  },
  {
   "cell_type": "markdown",
   "metadata": {},
   "source": [
    "※ cmap 옵션들\n",
    "1) viridis(파랑~노랑)  /  cividis(색맹위한 색상)\n",
    "2) plasma  /  magma\n",
    "3) Reds / Greens / Blues / Grays / Purples / Oranges / Spectral\n",
    "4) OrRd / PuRd / PuBu ....\n",
    "\n",
    "\n"
   ]
  },
  {
   "cell_type": "markdown",
   "metadata": {},
   "source": [
    "※ Seaborn의 palette ㅡ 각종 plot메서드내 cmap에서는 혼용 안됨\n",
    "1) pastel\n",
    "2) flare\n",
    "3) Spectral\n",
    "4) blend:색1,색2"
   ]
  },
  {
   "cell_type": "code",
   "execution_count": 180,
   "metadata": {},
   "outputs": [
    {
     "data": {
      "text/html": [
       "<svg  width=\"550\" height=\"55\"><rect x=\"0\" y=\"0\" width=\"55\" height=\"55\" style=\"fill:#1f77b4;stroke-width:2;stroke:rgb(255,255,255)\"/><rect x=\"55\" y=\"0\" width=\"55\" height=\"55\" style=\"fill:#ff7f0e;stroke-width:2;stroke:rgb(255,255,255)\"/><rect x=\"110\" y=\"0\" width=\"55\" height=\"55\" style=\"fill:#2ca02c;stroke-width:2;stroke:rgb(255,255,255)\"/><rect x=\"165\" y=\"0\" width=\"55\" height=\"55\" style=\"fill:#d62728;stroke-width:2;stroke:rgb(255,255,255)\"/><rect x=\"220\" y=\"0\" width=\"55\" height=\"55\" style=\"fill:#9467bd;stroke-width:2;stroke:rgb(255,255,255)\"/><rect x=\"275\" y=\"0\" width=\"55\" height=\"55\" style=\"fill:#8c564b;stroke-width:2;stroke:rgb(255,255,255)\"/><rect x=\"330\" y=\"0\" width=\"55\" height=\"55\" style=\"fill:#e377c2;stroke-width:2;stroke:rgb(255,255,255)\"/><rect x=\"385\" y=\"0\" width=\"55\" height=\"55\" style=\"fill:#7f7f7f;stroke-width:2;stroke:rgb(255,255,255)\"/><rect x=\"440\" y=\"0\" width=\"55\" height=\"55\" style=\"fill:#bcbd22;stroke-width:2;stroke:rgb(255,255,255)\"/><rect x=\"495\" y=\"0\" width=\"55\" height=\"55\" style=\"fill:#17becf;stroke-width:2;stroke:rgb(255,255,255)\"/></svg>"
      ],
      "text/plain": [
       "[(0.12156862745098039, 0.4666666666666667, 0.7058823529411765),\n",
       " (1.0, 0.4980392156862745, 0.054901960784313725),\n",
       " (0.17254901960784313, 0.6274509803921569, 0.17254901960784313),\n",
       " (0.8392156862745098, 0.15294117647058825, 0.1568627450980392),\n",
       " (0.5803921568627451, 0.403921568627451, 0.7411764705882353),\n",
       " (0.5490196078431373, 0.33725490196078434, 0.29411764705882354),\n",
       " (0.8901960784313725, 0.4666666666666667, 0.7607843137254902),\n",
       " (0.4980392156862745, 0.4980392156862745, 0.4980392156862745),\n",
       " (0.7372549019607844, 0.7411764705882353, 0.13333333333333333),\n",
       " (0.09019607843137255, 0.7450980392156863, 0.8117647058823529)]"
      ]
     },
     "execution_count": 180,
     "metadata": {},
     "output_type": "execute_result"
    }
   ],
   "source": [
    "sns.color_palette()"
   ]
  },
  {
   "cell_type": "code",
   "execution_count": 181,
   "metadata": {},
   "outputs": [
    {
     "data": {
      "text/html": [
       "<svg  width=\"550\" height=\"55\"><rect x=\"0\" y=\"0\" width=\"55\" height=\"55\" style=\"fill:#a1c9f4;stroke-width:2;stroke:rgb(255,255,255)\"/><rect x=\"55\" y=\"0\" width=\"55\" height=\"55\" style=\"fill:#ffb482;stroke-width:2;stroke:rgb(255,255,255)\"/><rect x=\"110\" y=\"0\" width=\"55\" height=\"55\" style=\"fill:#8de5a1;stroke-width:2;stroke:rgb(255,255,255)\"/><rect x=\"165\" y=\"0\" width=\"55\" height=\"55\" style=\"fill:#ff9f9b;stroke-width:2;stroke:rgb(255,255,255)\"/><rect x=\"220\" y=\"0\" width=\"55\" height=\"55\" style=\"fill:#d0bbff;stroke-width:2;stroke:rgb(255,255,255)\"/><rect x=\"275\" y=\"0\" width=\"55\" height=\"55\" style=\"fill:#debb9b;stroke-width:2;stroke:rgb(255,255,255)\"/><rect x=\"330\" y=\"0\" width=\"55\" height=\"55\" style=\"fill:#fab0e4;stroke-width:2;stroke:rgb(255,255,255)\"/><rect x=\"385\" y=\"0\" width=\"55\" height=\"55\" style=\"fill:#cfcfcf;stroke-width:2;stroke:rgb(255,255,255)\"/><rect x=\"440\" y=\"0\" width=\"55\" height=\"55\" style=\"fill:#fffea3;stroke-width:2;stroke:rgb(255,255,255)\"/><rect x=\"495\" y=\"0\" width=\"55\" height=\"55\" style=\"fill:#b9f2f0;stroke-width:2;stroke:rgb(255,255,255)\"/></svg>"
      ],
      "text/plain": [
       "[(0.6313725490196078, 0.788235294117647, 0.9568627450980393),\n",
       " (1.0, 0.7058823529411765, 0.5098039215686274),\n",
       " (0.5529411764705883, 0.8980392156862745, 0.6313725490196078),\n",
       " (1.0, 0.6235294117647059, 0.6078431372549019),\n",
       " (0.8156862745098039, 0.7333333333333333, 1.0),\n",
       " (0.8705882352941177, 0.7333333333333333, 0.6078431372549019),\n",
       " (0.9803921568627451, 0.6901960784313725, 0.8941176470588236),\n",
       " (0.8117647058823529, 0.8117647058823529, 0.8117647058823529),\n",
       " (1.0, 0.996078431372549, 0.6392156862745098),\n",
       " (0.7254901960784313, 0.9490196078431372, 0.9411764705882353)]"
      ]
     },
     "execution_count": 181,
     "metadata": {},
     "output_type": "execute_result"
    }
   ],
   "source": [
    "sns.color_palette('pastel')"
   ]
  },
  {
   "cell_type": "code",
   "execution_count": 182,
   "metadata": {},
   "outputs": [
    {
     "data": {
      "text/html": [
       "<svg  width=\"330\" height=\"55\"><rect x=\"0\" y=\"0\" width=\"55\" height=\"55\" style=\"fill:#e2514a;stroke-width:2;stroke:rgb(255,255,255)\"/><rect x=\"55\" y=\"0\" width=\"55\" height=\"55\" style=\"fill:#fca55d;stroke-width:2;stroke:rgb(255,255,255)\"/><rect x=\"110\" y=\"0\" width=\"55\" height=\"55\" style=\"fill:#fee999;stroke-width:2;stroke:rgb(255,255,255)\"/><rect x=\"165\" y=\"0\" width=\"55\" height=\"55\" style=\"fill:#edf8a3;stroke-width:2;stroke:rgb(255,255,255)\"/><rect x=\"220\" y=\"0\" width=\"55\" height=\"55\" style=\"fill:#a2d9a4;stroke-width:2;stroke:rgb(255,255,255)\"/><rect x=\"275\" y=\"0\" width=\"55\" height=\"55\" style=\"fill:#47a0b3;stroke-width:2;stroke:rgb(255,255,255)\"/></svg>"
      ],
      "text/plain": [
       "[(0.8853517877739331, 0.3190311418685121, 0.29042675893886966),\n",
       " (0.9873125720876587, 0.6473663975394078, 0.3642445213379469),\n",
       " (0.9971549404075356, 0.9118031526336025, 0.6010765090349866),\n",
       " (0.9288735101883892, 0.9715494040753557, 0.6380622837370243),\n",
       " (0.6334486735870821, 0.8521337946943485, 0.6436755094194541),\n",
       " (0.2800461361014994, 0.6269896193771626, 0.7024221453287197)]"
      ]
     },
     "execution_count": 182,
     "metadata": {},
     "output_type": "execute_result"
    }
   ],
   "source": [
    "sns.color_palette('Spectral')                # sepctral은 대문자로 시작해야 인식됨"
   ]
  },
  {
   "cell_type": "code",
   "execution_count": 183,
   "metadata": {},
   "outputs": [
    {
     "data": {
      "image/png": "[encoded data removed]",
      "text/html": [
       "<div style=\"vertical-align: middle;\"><strong>Spectral</strong> </div><div class=\"cmap\"><img alt=\"Spectral colormap\" title=\"Spectral\" style=\"border: 1px solid #555;\" src=\"data:image/png;base64,iVBORw0KGgoAAAANSUhEUgAAAgAAAABACAYAAABsv8+/AAAAF3RFWHRUaXRsZQBTcGVjdHJhbCBjb2xvcm1hcI/oV9sAAAAddEVYdERlc2NyaXB0aW9uAFNwZWN0cmFsIGNvbG9ybWFwppaw8gAAADB0RVh0QXV0aG9yAE1hdHBsb3RsaWIgdjMuOS4zLCBodHRwczovL21hdHBsb3RsaWIub3JnxBJVXQAAADJ0RVh0U29mdHdhcmUATWF0cGxvdGxpYiB2My45LjMsIGh0dHBzOi8vbWF0cGxvdGxpYi5vcmfqtMp6AAACDklEQVR4nO3WO3KDMABFUQl2loVmp5gUCGaQzcgxSfXOaTT6AMZ2cet3/VpLKWWaStnGuo1zN9/3520+d/PR9fPgflfz+erzXN2vjfWYr6d57ed1fXnd07mpO1cH+xfPefdz7fcp7f1K+15qN9/36/GDDM4f69N5/bjP1Xzqrv/lfafuPlP3eYfrd6//m/X6/Ed5Pf7Vuf9+Xtneby2PNm7/w3UdzPfzaz9/91w3v/nc0vaXbSiPY6zdej3tL9389vnS7997Tv8+SzcO1x8fXvfp857W23ssbf6o53Gpr9dH+59e176PT++7tveY2gv3Y10u1vvz7Ye53h9df7H+7v4+FgAgjgAAgEACAAACCQAACCQAACCQAACAQAIAAAIJAAAIJAAAIJAAAIBAAgAAAgkAAAgkAAAgkAAAgEACAAACCQAACCQAACCQAACAQAIAAAIJAAAIJAAAIJAAAIBAAgAAAgkAAAgkAAAgkAAAgEACAAACCQAACCQAACCQAACAQAIAAAIJAAAIJAAAIJAAAIBAAgAAAgkAAAgkAAAgkAAAgEACAAACCQAACCQAACCQAACAQAIAAAIJAAAIJAAAIJAAAIBAAgAAAgkAAAgkAAAgkAAAgEACAAACCQAACCQAACCQAACAQAIAAAIJAAAIJAAAIJAAAIBAAgAAAgkAAAgkAAAgkAAAgEACAAAC/QB9nBLdjK/6iAAAAABJRU5ErkJggg==\"></div><div style=\"vertical-align: middle; max-width: 514px; display: flex; justify-content: space-between;\"><div style=\"float: left;\"><div title=\"#9e0142ff\" style=\"display: inline-block; width: 1em; height: 1em; margin: 0; vertical-align: middle; border: 1px solid #555; background-color: #9e0142ff;\"></div> under</div><div style=\"margin: 0 auto; display: inline-block;\">bad <div title=\"#00000000\" style=\"display: inline-block; width: 1em; height: 1em; margin: 0; vertical-align: middle; border: 1px solid #555; background-color: #00000000;\"></div></div><div style=\"float: right;\">over <div title=\"#5e4fa2ff\" style=\"display: inline-block; width: 1em; height: 1em; margin: 0; vertical-align: middle; border: 1px solid #555; background-color: #5e4fa2ff;\"></div></div></div>"
      ],
      "text/plain": [
       "<matplotlib.colors.LinearSegmentedColormap at 0x29ee621d790>"
      ]
     },
     "execution_count": 183,
     "metadata": {},
     "output_type": "execute_result"
    }
   ],
   "source": [
    "sns.color_palette('Spectral', as_cmap=True) "
   ]
  },
  {
   "cell_type": "code",
   "execution_count": 184,
   "metadata": {},
   "outputs": [
    {
     "data": {
      "image/png": "[encoded data removed]",
      "text/html": [
       "<div style=\"vertical-align: middle;\"><strong>flare</strong> </div><div class=\"cmap\"><img alt=\"flare colormap\" title=\"flare\" style=\"border: 1px solid #555;\" src=\"data:image/png;base64,iVBORw0KGgoAAAANSUhEUgAAAgAAAABACAYAAABsv8+/AAAAFHRFWHRUaXRsZQBmbGFyZSBjb2xvcm1hcPBwCaYAAAAadEVYdERlc2NyaXB0aW9uAGZsYXJlIGNvbG9ybWFwDi+gQAAAADB0RVh0QXV0aG9yAE1hdHBsb3RsaWIgdjMuOS4zLCBodHRwczovL21hdHBsb3RsaWIub3JnxBJVXQAAADJ0RVh0U29mdHdhcmUATWF0cGxvdGxpYiB2My45LjMsIGh0dHBzOi8vbWF0cGxvdGxpYi5vcmfqtMp6AAAB4UlEQVR4nO3WQXKDMBBFwSEnz41ysdxBWcQhBXgssL373RsKNBbCq7d8f32Oqqoav5e6Xfr7yVxt58ar+zX3403n7fc5e47Xvuf8d2xvp3PVzXXnn73v7Prjc87nHz9v52q59LsxbvP7Y65zy/b+MHf/9+vvTs63z2vZ3Xf7N++ryb4n3/d/bc7TnWN/fXm9Of9h/U/3ne/Zv1uv9fmz77+2XpP10/s/Obe+/7Zyfb9xbW667/Zgx/nmnOtct969//78+v7Zfofv6P7H7fP//a/9bn/+jwIA4ggAAAgkAAAgkAAAgEACAAACCQAACCQAACCQAACAQAIAAAIJAAAIJAAAIJAAAIBAAgAAAgkAAAgkAAAgkAAAgEACAAACCQAACCQAACCQAACAQAIAAAIJAAAIJAAAIJAAAIBAAgAAAgkAAAgkAAAgkAAAgEACAAACCQAACCQAACCQAACAQAIAAAIJAAAIJAAAIJAAAIBAAgAAAgkAAAgkAAAgkAAAgEACAAACCQAACCQAACCQAACAQAIAAAIJAAAIJAAAIJAAAIBAAgAAAgkAAAgkAAAgkAAAgEACAAACCQAACCQAACCQAACAQAIAAAIJAAAIJAAAIJAAAIBAAgAAAgkAAAgkAAAg0A/eZmRcQvs67gAAAABJRU5ErkJggg==\"></div><div style=\"vertical-align: middle; max-width: 514px; display: flex; justify-content: space-between;\"><div style=\"float: left;\"><div title=\"#edb081ff\" style=\"display: inline-block; width: 1em; height: 1em; margin: 0; vertical-align: middle; border: 1px solid #555; background-color: #edb081ff;\"></div> under</div><div style=\"margin: 0 auto; display: inline-block;\">bad <div title=\"#00000000\" style=\"display: inline-block; width: 1em; height: 1em; margin: 0; vertical-align: middle; border: 1px solid #555; background-color: #00000000;\"></div></div><div style=\"float: right;\">over <div title=\"#4b2362ff\" style=\"display: inline-block; width: 1em; height: 1em; margin: 0; vertical-align: middle; border: 1px solid #555; background-color: #4b2362ff;\"></div></div></div>"
      ],
      "text/plain": [
       "<matplotlib.colors.ListedColormap at 0x29ee61ae720>"
      ]
     },
     "execution_count": 184,
     "metadata": {},
     "output_type": "execute_result"
    }
   ],
   "source": [
    "sns.color_palette('flare', as_cmap=True) "
   ]
  },
  {
   "cell_type": "code",
   "execution_count": 185,
   "metadata": {},
   "outputs": [
    {
     "data": {
      "image/png": "[encoded data removed]",
      "text/html": [
       "<div style=\"vertical-align: middle;\"><strong>blend</strong> </div><div class=\"cmap\"><img alt=\"blend colormap\" title=\"blend\" style=\"border: 1px solid #555;\" src=\"data:image/png;base64,iVBORw0KGgoAAAANSUhEUgAAAgAAAABACAYAAABsv8+/AAAAFHRFWHRUaXRsZQBibGVuZCBjb2xvcm1hcKH0gPAAAAAadEVYdERlc2NyaXB0aW9uAGJsZW5kIGNvbG9ybWFwX6spFgAAADB0RVh0QXV0aG9yAE1hdHBsb3RsaWIgdjMuOS4zLCBodHRwczovL21hdHBsb3RsaWIub3JnxBJVXQAAADJ0RVh0U29mdHdhcmUATWF0cGxvdGxpYiB2My45LjMsIGh0dHBzOi8vbWF0cGxvdGxpYi5vcmfqtMp6AAABTElEQVR4nO3WQQqEMBAAwYkv35/rwdUHCAsrXXVRMcmAF3vNZ/aZmTWn+7paz9fNFn2/7oXfdQ+/p/3v3v/r88w33/z/mX/9DwCAEAEAAEECAACCBAAABAkAAAgSAAAQJAAAIEgAAECQAACAIAEAAEECAACCBAAABAkAAAgSAAAQJAAAIEgAAECQAACAIAEAAEECAACCBAAABAkAAAgSAAAQJAAAIEgAAECQAACAIAEAAEECAACCBAAABAkAAAgSAAAQJAAAIEgAAECQAACAIAEAAEECAACCBAAABAkAAAgSAAAQJAAAIEgAAECQAACAIAEAAEECAACCBAAABAkAAAgSAAAQJAAAIEgAAECQAACAIAEAAEECAACCBAAABAkAAAgSAAAQJAAAIEgAAECQAACAIAEAAEECAACCBAAABAkAAAgSAAAQJAAAIOgALMgDfUdA0HYAAAAASUVORK5CYII=\"></div><div style=\"vertical-align: middle; max-width: 514px; display: flex; justify-content: space-between;\"><div style=\"float: left;\"><div title=\"#008000ff\" style=\"display: inline-block; width: 1em; height: 1em; margin: 0; vertical-align: middle; border: 1px solid #555; background-color: #008000ff;\"></div> under</div><div style=\"margin: 0 auto; display: inline-block;\">bad <div title=\"#00000000\" style=\"display: inline-block; width: 1em; height: 1em; margin: 0; vertical-align: middle; border: 1px solid #555; background-color: #00000000;\"></div></div><div style=\"float: right;\">over <div title=\"#ffff00ff\" style=\"display: inline-block; width: 1em; height: 1em; margin: 0; vertical-align: middle; border: 1px solid #555; background-color: #ffff00ff;\"></div></div></div>"
      ],
      "text/plain": [
       "<matplotlib.colors.LinearSegmentedColormap at 0x29ee6605520>"
      ]
     },
     "execution_count": 185,
     "metadata": {},
     "output_type": "execute_result"
    }
   ],
   "source": [
    "sns.color_palette(\"blend:green,yellow\", as_cmap=True)       # blend로 색을 조합할때 쉼표 뒤에 공백 있으면 안됨"
   ]
  },
  {
   "cell_type": "code",
   "execution_count": 186,
   "metadata": {},
   "outputs": [
    {
     "data": {
      "image/png": "[encoded data removed]",
      "text/html": [
       "<div style=\"vertical-align: middle;\"><strong>blend</strong> </div><div class=\"cmap\"><img alt=\"blend colormap\" title=\"blend\" style=\"border: 1px solid #555;\" src=\"data:image/png;base64,iVBORw0KGgoAAAANSUhEUgAAAgAAAABACAYAAABsv8+/AAAAFHRFWHRUaXRsZQBibGVuZCBjb2xvcm1hcKH0gPAAAAAadEVYdERlc2NyaXB0aW9uAGJsZW5kIGNvbG9ybWFwX6spFgAAADB0RVh0QXV0aG9yAE1hdHBsb3RsaWIgdjMuOS4zLCBodHRwczovL21hdHBsb3RsaWIub3JnxBJVXQAAADJ0RVh0U29mdHdhcmUATWF0cGxvdGxpYiB2My45LjMsIGh0dHBzOi8vbWF0cGxvdGxpYi5vcmfqtMp6AAABX0lEQVR4nO3WMQrDMBAAwXP+/428UylMUhgCLoJj2JnGyBycULXbes6amVlrdmvbP3M4f34czr+av3rft/mr93mPc/NX7/Me5+a9x3/33f097nK/q/fd/H7vuccAADkCAACCBAAABAkAAAgSAAAQJAAAIEgAAECQAACAIAEAAEECAACCBAAABAkAAAgSAAAQJAAAIEgAAECQAACAIAEAAEECAACCBAAABAkAAAgSAAAQJAAAIEgAAECQAACAIAEAAEECAACCBAAABAkAAAgSAAAQJAAAIEgAAECQAACAIAEAAEECAACCBAAABAkAAAgSAAAQJAAAIEgAAECQAACAIAEAAEECAACCBAAABAkAAAgSAAAQJAAAIEgAAECQAACAIAEAAEECAACCBAAABAkAAAgSAAAQJAAAIEgAAECQAACAIAEAAEECAACCBAAABAkAAAgSAAAQJAAAIEgAAEDQC0sgJo5dPPohAAAAAElFTkSuQmCC\"></div><div style=\"vertical-align: middle; max-width: 514px; display: flex; justify-content: space-between;\"><div style=\"float: left;\"><div title=\"#ffa500ff\" style=\"display: inline-block; width: 1em; height: 1em; margin: 0; vertical-align: middle; border: 1px solid #555; background-color: #ffa500ff;\"></div> under</div><div style=\"margin: 0 auto; display: inline-block;\">bad <div title=\"#00000000\" style=\"display: inline-block; width: 1em; height: 1em; margin: 0; vertical-align: middle; border: 1px solid #555; background-color: #00000000;\"></div></div><div style=\"float: right;\">over <div title=\"#800080ff\" style=\"display: inline-block; width: 1em; height: 1em; margin: 0; vertical-align: middle; border: 1px solid #555; background-color: #800080ff;\"></div></div></div>"
      ],
      "text/plain": [
       "<matplotlib.colors.LinearSegmentedColormap at 0x29ee621d5b0>"
      ]
     },
     "execution_count": 186,
     "metadata": {},
     "output_type": "execute_result"
    }
   ],
   "source": [
    "sns.color_palette(\"blend:orange,purple\", as_cmap=True)  "
   ]
  },
  {
   "cell_type": "code",
   "execution_count": null,
   "metadata": {},
   "outputs": [],
   "source": []
  }
 ],
 "metadata": {
  "kernelspec": {
   "display_name": "kdt_energy1_1",
   "language": "python",
   "name": "python3"
  },
  "language_info": {
   "codemirror_mode": {
    "name": "ipython",
    "version": 3
   },
   "file_extension": ".py",
   "mimetype": "text/x-python",
   "name": "python",
   "nbconvert_exporter": "python",
   "pygments_lexer": "ipython3",
   "version": "3.12.7"
  }
 },
 "nbformat": 4,
 "nbformat_minor": 2
}
