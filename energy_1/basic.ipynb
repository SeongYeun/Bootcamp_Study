{
 "cells": [
  {
   "cell_type": "code",
   "execution_count": 2,
   "id": "613d81ff-588c-4713-bb76-946ac1bafe48",
   "metadata": {},
   "outputs": [
    {
     "name": "stdout",
     "output_type": "stream",
     "text": [
      "test\n"
     ]
    }
   ],
   "source": [
    "print(\"test\")"
   ]
  },
  {
   "cell_type": "code",
   "execution_count": null,
   "id": "7522f875-6d9b-43ef-a8bc-4e03053c8fb5",
   "metadata": {},
   "outputs": [],
   "source": [
    "msg = \"주피터\"\n",
    "print(msg)"
   ]
  },
  {
   "cell_type": "code",
   "execution_count": 14,
   "id": "acd358ab-9c72-49aa-a468-10491ff91f30",
   "metadata": {},
   "outputs": [
    {
     "data": {
      "text/plain": [
       "'사과'"
      ]
     },
     "execution_count": 14,
     "metadata": {},
     "output_type": "execute_result"
    }
   ],
   "source": [
    "cart = [\"사과\", \"바나나\", \"딸기\", \"포도\"]\n",
    "cart[0]"
   ]
  },
  {
   "cell_type": "code",
   "execution_count": 16,
   "id": "ef32d4bd-fe90-4a1f-9e27-b59c496e3197",
   "metadata": {},
   "outputs": [
    {
     "data": {
      "text/plain": [
       "'포도'"
      ]
     },
     "execution_count": 16,
     "metadata": {},
     "output_type": "execute_result"
    }
   ],
   "source": [
    "cart[-1]"
   ]
  },
  {
   "cell_type": "code",
   "execution_count": 12,
   "id": "6139b92f-6bbf-4c70-bc67-fb454be3f430",
   "metadata": {},
   "outputs": [
    {
     "name": "stdout",
     "output_type": "stream",
     "text": [
      "사과\n",
      "바나나\n",
      "딸기\n",
      "포도\n"
     ]
    }
   ],
   "source": [
    "for i in cart:\n",
    "    print(i)"
   ]
  },
  {
   "cell_type": "code",
   "execution_count": 20,
   "id": "f43c8bcb-0468-4213-83be-1811d4cf5d10",
   "metadata": {},
   "outputs": [
    {
     "name": "stdout",
     "output_type": "stream",
     "text": [
      "13\n"
     ]
    }
   ],
   "source": [
    "import math\n",
    "import random\n",
    "\n",
    "v1 = math.ceil(12.56)\n",
    "print(v1)"
   ]
  },
  {
   "cell_type": "code",
   "execution_count": 22,
   "id": "14d014dc-89e8-4172-8b90-8568ba0da6e9",
   "metadata": {},
   "outputs": [
    {
     "name": "stdout",
     "output_type": "stream",
     "text": [
      "12\n"
     ]
    }
   ],
   "source": [
    "v2 = math.floor(12.56)\n",
    "print(v2)"
   ]
  },
  {
   "cell_type": "code",
   "execution_count": 24,
   "id": "a1bfd885-ea3a-40c4-9795-14ffbcd23159",
   "metadata": {},
   "outputs": [
    {
     "name": "stdout",
     "output_type": "stream",
     "text": [
      "0.7446941359602443\n"
     ]
    }
   ],
   "source": [
    "v3 = random.random()\n",
    "print(v3)"
   ]
  },
  {
   "cell_type": "code",
   "execution_count": 30,
   "id": "889113da-6a67-4d4e-a887-b92c13f96828",
   "metadata": {},
   "outputs": [
    {
     "name": "stdout",
     "output_type": "stream",
     "text": [
      "4\n"
     ]
    }
   ],
   "source": [
    "v4 = random.randint(1,10)\n",
    "print(v4)"
   ]
  },
  {
   "cell_type": "code",
   "execution_count": 34,
   "id": "7acc272b-66b1-4b96-ad46-a1aa5787706f",
   "metadata": {},
   "outputs": [
    {
     "name": "stdout",
     "output_type": "stream",
     "text": [
      "3\n",
      "3\n",
      "1\n",
      "2\n",
      "6\n",
      "1\n",
      "2\n",
      "1\n",
      "4\n",
      "2\n"
     ]
    }
   ],
   "source": [
    "for i in range(10):\n",
    "    dice=random.randint(1,6)\n",
    "    print(dice)"
   ]
  },
  {
   "cell_type": "code",
   "execution_count": 38,
   "id": "294f8eef-5a58-40aa-923a-547461a1c51d",
   "metadata": {},
   "outputs": [
    {
     "name": "stdout",
     "output_type": "stream",
     "text": [
      "10 5\n"
     ]
    }
   ],
   "source": [
    "def my_abs(x):\n",
    "    if x < 0 :\n",
    "        return -x\n",
    "    else:\n",
    "        return x\n",
    "print(my_abs(-10), my_abs(5))"
   ]
  },
  {
   "cell_type": "code",
   "execution_count": 44,
   "id": "1c987c5a-e8b9-4458-9bff-9eed73f6acbd",
   "metadata": {},
   "outputs": [
    {
     "name": "stdout",
     "output_type": "stream",
     "text": [
      "모델명: 벤틀리, 연식: 2022\n"
     ]
    }
   ],
   "source": [
    "class Car:\n",
    "    def __init__(self, model_name, year):\n",
    "        self.model_name = model_name\n",
    "        self.year = year\n",
    "\n",
    "    def __str__(self):\n",
    "        return f\"모델명: {self.model_name}, 연식: {self.year}\"\n",
    "\n",
    "car1 = Car(\"벤틀리\", 2022)\n",
    "print(car1)"
   ]
  },
  {
   "cell_type": "code",
   "execution_count": null,
   "id": "8b681912-cef3-4c1d-9e30-851ef26e1ffb",
   "metadata": {},
   "outputs": [],
   "source": []
  }
 ],
 "metadata": {
  "kernelspec": {
   "display_name": "Python 3 (ipykernel)",
   "language": "python",
   "name": "python3"
  },
  "language_info": {
   "codemirror_mode": {
    "name": "ipython",
    "version": 3
   },
   "file_extension": ".py",
   "mimetype": "text/x-python",
   "name": "python",
   "nbconvert_exporter": "python",
   "pygments_lexer": "ipython3",
   "version": "3.12.4"
  }
 },
 "nbformat": 4,
 "nbformat_minor": 5
}
