{
 "cells": [
  {
   "cell_type": "code",
   "execution_count": null,
   "metadata": {
    "vscode": {
     "languageId": "plaintext"
    }
   },
   "outputs": [],
   "source": [
    "import matplotlib.pyplot as plt\n",
    "\n",
    "# Jupyter Notebook 환경에서 인라인으로 그래프를 표시하도록 설정\n",
    "%matplotlib inline\n",
    "\n",
    "\n",
    "# 데이터 준비\n",
    "x = [1, 2, 3, 4, 5]\n",
    "y = [2, 3, 5, 7, 11]\n",
    "\n",
    "print(x)\n",
    "print(y)\n",
    "\n",
    "# 그래프 그리기\n",
    "plt.plot(x, y)\n",
    "\n",
    "# 타이틀과 레이블 추가\n",
    "plt.title(\"Simple Plot\")\n",
    "plt.xlabel(\"X-axis\")\n",
    "plt.ylabel(\"Y-axis\")\n",
    "\n",
    "# 그래프 보이기\n",
    "print(plt.show())\n"
   ]
  },
  {
   "cell_type": "code",
   "execution_count": null,
   "metadata": {
    "vscode": {
     "languageId": "plaintext"
    }
   },
   "outputs": [],
   "source": []
  }
 ],
 "metadata": {
  "language_info": {
   "name": "python"
  }
 },
 "nbformat": 4,
 "nbformat_minor": 2
}
