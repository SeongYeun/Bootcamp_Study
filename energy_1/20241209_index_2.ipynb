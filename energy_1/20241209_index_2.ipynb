{
 "cells": [
  {
   "cell_type": "markdown",
   "metadata": {},
   "source": [
    "실습. 공공데이터 활용 ㅡ 서울 열린데이터 광장 > \"서울시 공원 내 운동기구 설치 현황.csv\""
   ]
  },
  {
   "cell_type": "code",
   "execution_count": 1,
   "metadata": {},
   "outputs": [
    {
     "data": {
      "text/html": [
       "<div>\n",
       "<style scoped>\n",
       "    .dataframe tbody tr th:only-of-type {\n",
       "        vertical-align: middle;\n",
       "    }\n",
       "\n",
       "    .dataframe tbody tr th {\n",
       "        vertical-align: top;\n",
       "    }\n",
       "\n",
       "    .dataframe thead th {\n",
       "        text-align: right;\n",
       "    }\n",
       "</style>\n",
       "<table border=\"1\" class=\"dataframe\">\n",
       "  <thead>\n",
       "    <tr style=\"text-align: right;\">\n",
       "      <th></th>\n",
       "      <th>구분</th>\n",
       "      <th>위치(구역명)</th>\n",
       "      <th>운동기구 기종명</th>\n",
       "      <th>운동기구 수량</th>\n",
       "      <th>관리번호</th>\n",
       "      <th>관리기관</th>\n",
       "    </tr>\n",
       "  </thead>\n",
       "  <tbody>\n",
       "    <tr>\n",
       "      <th>0</th>\n",
       "      <td>남산공원(회현)</td>\n",
       "      <td>안중근 기념관 옆</td>\n",
       "      <td>스텝사이클</td>\n",
       "      <td>1</td>\n",
       "      <td>남삼회현-1(안중근기념관옆)-1</td>\n",
       "      <td>중부공원녹지사업소</td>\n",
       "    </tr>\n",
       "    <tr>\n",
       "      <th>1</th>\n",
       "      <td>남산공원(회현)</td>\n",
       "      <td>안중근 기념관 옆</td>\n",
       "      <td>크로스 컨트리</td>\n",
       "      <td>1</td>\n",
       "      <td>남삼회현-1(안중근기념관옆)-2</td>\n",
       "      <td>중부공원녹지사업소</td>\n",
       "    </tr>\n",
       "    <tr>\n",
       "      <th>2</th>\n",
       "      <td>남산공원(회현)</td>\n",
       "      <td>안중근 기념관 옆</td>\n",
       "      <td>체어 웨이트</td>\n",
       "      <td>1</td>\n",
       "      <td>남삼회현-1(안중근기념관옆)-3</td>\n",
       "      <td>중부공원녹지사업소</td>\n",
       "    </tr>\n",
       "  </tbody>\n",
       "</table>\n",
       "</div>"
      ],
      "text/plain": [
       "          구분      위치(구역명)   운동기구 기종명   운동기구 수량                  관리번호  \\\n",
       "0   남산공원(회현)    안중근 기념관 옆      스텝사이클          1   남삼회현-1(안중근기념관옆)-1    \n",
       "1   남산공원(회현)    안중근 기념관 옆    크로스 컨트리          1   남삼회현-1(안중근기념관옆)-2    \n",
       "2   남산공원(회현)    안중근 기념관 옆     체어 웨이트          1   남삼회현-1(안중근기념관옆)-3    \n",
       "\n",
       "         관리기관   \n",
       "0   중부공원녹지사업소   \n",
       "1   중부공원녹지사업소   \n",
       "2   중부공원녹지사업소   "
      ]
     },
     "execution_count": 1,
     "metadata": {},
     "output_type": "execute_result"
    }
   ],
   "source": [
    "import pandas as pd\n",
    "file_name = \"./서울시 공원 내 운동기구 설치 현황_201231.csv\"\n",
    "df = pd.read_csv(file_name, encoding=\"cp949\")\n",
    "df.head(3)"
   ]
  },
  {
   "cell_type": "code",
   "execution_count": 2,
   "metadata": {},
   "outputs": [
    {
     "data": {
      "text/plain": [
       "Index(['구분', '위치(구역명)', '운동기구기종명', '운동기구수량', '관리번호', '관리기관'], dtype='object')"
      ]
     },
     "execution_count": 2,
     "metadata": {},
     "output_type": "execute_result"
    }
   ],
   "source": [
    "# 컬럼명 인식 불가 오류 -> 해결 : 컬럼명 공백제거 \n",
    "df.columns = df.columns.str.strip().str.replace(\" \", \"\")\n",
    "df.columns"
   ]
  },
  {
   "cell_type": "code",
   "execution_count": 3,
   "metadata": {},
   "outputs": [
    {
     "data": {
      "text/plain": [
       "구분\n",
       "간데메공원        30\n",
       "경의선숲길공원      11\n",
       "구의야구공원        4\n",
       "낙산공원         46\n",
       "남산공원(장충)     23\n",
       "Name: 운동기구수량, dtype: int64"
      ]
     },
     "execution_count": 3,
     "metadata": {},
     "output_type": "execute_result"
    }
   ],
   "source": [
    "# 1) 공원별 총 운동기구 설치 수\n",
    "sum_by_park = df.groupby('구분')['운동기구수량'].sum()\n",
    "sum_by_park.to_string(\"문1_공원별 총 운동기구 설치 수.txt\")\n",
    "sum_by_park.head()"
   ]
  },
  {
   "cell_type": "code",
   "execution_count": 29,
   "metadata": {},
   "outputs": [
    {
     "data": {
      "text/plain": [
       "운동기구기종명\n",
       "허리돌리기     183\n",
       "공중걷기      106\n",
       "하체흔들기      77\n",
       "윗몸일으켜기     77\n",
       "평행봉        75\n",
       "Name: 운동기구수량, dtype: int64"
      ]
     },
     "execution_count": 29,
     "metadata": {},
     "output_type": "execute_result"
    }
   ],
   "source": [
    "# 2) 운동기구 종류별 설치 개수\n",
    "sum_by_type = df.groupby('운동기구기종명')['운동기구수량'].sum()\n",
    "sum_by_type.to_string(\"문2_운동기구 종류별 설치 개수.txt\")\n",
    "sum_by_type.sort_values(ascending=False).head()"
   ]
  },
  {
   "cell_type": "code",
   "execution_count": null,
   "metadata": {},
   "outputs": [
    {
     "data": {
      "text/plain": [
       "운동기구기종명\n",
       "허리돌리기     180\n",
       "공중걷기      101\n",
       "하체흔들기      77\n",
       "윗몸일으켜기     77\n",
       "온몸근육풀기     70\n",
       "Name: count, dtype: int64"
      ]
     },
     "execution_count": 31,
     "metadata": {},
     "output_type": "execute_result"
    }
   ],
   "source": [
    "# 참고 : 운동기구기종명 컬럼의 범주별 빈도수 (내림차순)\n",
    "freq_type = df['운동기구기종명'].value_counts()\n",
    "freq_type.head()"
   ]
  },
  {
   "cell_type": "code",
   "execution_count": 5,
   "metadata": {},
   "outputs": [
    {
     "data": {
      "text/plain": [
       "관리기관\n",
       "동부공원녹지사업소     311\n",
       "서부공원녹지사업소     120\n",
       "서울대공원          22\n",
       "중부공원녹지사업소     496\n",
       "체육시설관리사업소      18\n",
       "Name: 운동기구수량, dtype: int64"
      ]
     },
     "execution_count": 5,
     "metadata": {},
     "output_type": "execute_result"
    }
   ],
   "source": [
    "# 3) 관리기관별 총 운동기구 설치 수\n",
    "sum_by_control = df.groupby('관리기관')['운동기구수량'].sum()\n",
    "sum_by_control.to_string(\"문3_관리기관별 총 운동기구 설치 수.txt\")\n",
    "sum_by_control.head()"
   ]
  },
  {
   "cell_type": "code",
   "execution_count": 12,
   "metadata": {},
   "outputs": [
    {
     "data": {
      "text/plain": [
       "구분\n",
       "한강공원(뚝섬지구)     232\n",
       "한강공원(이촌지구)     197\n",
       "북서울꿈의숲         155\n",
       "한강공원(망원지구)     117\n",
       "한강공원(광나루지구)     94\n",
       "Name: count, dtype: int64"
      ]
     },
     "execution_count": 12,
     "metadata": {},
     "output_type": "execute_result"
    }
   ],
   "source": [
    "df['구분'].value_counts().head()"
   ]
  },
  {
   "cell_type": "code",
   "execution_count": null,
   "metadata": {},
   "outputs": [],
   "source": [
    "# 특정 데이터 필터링 불가 오류 -> 해결 : 데이터내 공백제거 \n",
    "# for i in df.index:\n",
    "#     df['구분']=df['구분'].str.strip().replace(\" \", \"\")\n",
    "#     df['운동기구기종명']=df['운동기구기종명'].str.strip().replace(\" \", \"\")\n",
    "\"\"\"ㅡㅡ> 코드리뷰 : 반복문 안해도 됨, 컬럼단위로 연산해도 각 행별 연산이 됨\"\"\"\n",
    "df['구분']=df['구분'].str.strip().replace(\" \", \"\")\n",
    "df['운동기구기종명']=df['운동기구기종명'].str.strip().replace(\" \", \"\")\n"
   ]
  },
  {
   "cell_type": "code",
   "execution_count": null,
   "metadata": {},
   "outputs": [
    {
     "name": "stdout",
     "output_type": "stream",
     "text": [
      "\n"
     ]
    },
    {
     "data": {
      "text/html": [
       "<div>\n",
       "<style scoped>\n",
       "    .dataframe tbody tr th:only-of-type {\n",
       "        vertical-align: middle;\n",
       "    }\n",
       "\n",
       "    .dataframe tbody tr th {\n",
       "        vertical-align: top;\n",
       "    }\n",
       "\n",
       "    .dataframe thead th {\n",
       "        text-align: right;\n",
       "    }\n",
       "</style>\n",
       "<table border=\"1\" class=\"dataframe\">\n",
       "  <thead>\n",
       "    <tr style=\"text-align: right;\">\n",
       "      <th></th>\n",
       "      <th>구분</th>\n",
       "      <th>위치(구역명)</th>\n",
       "      <th>운동기구기종명</th>\n",
       "      <th>운동기구수량</th>\n",
       "      <th>관리번호</th>\n",
       "      <th>관리기관</th>\n",
       "    </tr>\n",
       "  </thead>\n",
       "  <tbody>\n",
       "    <tr>\n",
       "      <th>551</th>\n",
       "      <td>보라매공원</td>\n",
       "      <td>청소년수련관 뒤</td>\n",
       "      <td>역기</td>\n",
       "      <td>1</td>\n",
       "      <td>보라매공원-8(청소년수련관 뒤)-2</td>\n",
       "      <td>동부공원녹지사업소</td>\n",
       "    </tr>\n",
       "    <tr>\n",
       "      <th>552</th>\n",
       "      <td>보라매공원</td>\n",
       "      <td>청소년수련관 뒤</td>\n",
       "      <td>평행봉</td>\n",
       "      <td>2</td>\n",
       "      <td>보라매공원-8(청소년수련관 뒤)-3</td>\n",
       "      <td>동부공원녹지사업소</td>\n",
       "    </tr>\n",
       "  </tbody>\n",
       "</table>\n",
       "</div>"
      ],
      "text/plain": [
       "        구분   위치(구역명) 운동기구기종명  운동기구수량                   관리번호         관리기관\n",
       "551  보라매공원  청소년수련관 뒤      역기       1   보라매공원-8(청소년수련관 뒤)-2    동부공원녹지사업소 \n",
       "552  보라매공원  청소년수련관 뒤     평행봉       2   보라매공원-8(청소년수련관 뒤)-3    동부공원녹지사업소 "
      ]
     },
     "execution_count": 20,
     "metadata": {},
     "output_type": "execute_result"
    }
   ],
   "source": [
    "# 4) 특정 공원 데이터 필터링 (예: 남산공원(회현))\n",
    "filter_park = [\"보라매공원\"]\n",
    "filterd_park = df[df['구분'].isin(filter_park)]\n",
    "filterd_park.to_string(\"문4_특정 공원 데이터 필터링(보라매공원).txt\", index=False)\n",
    "filterd_park.head(2)"
   ]
  },
  {
   "cell_type": "code",
   "execution_count": 21,
   "metadata": {},
   "outputs": [
    {
     "data": {
      "text/html": [
       "<div>\n",
       "<style scoped>\n",
       "    .dataframe tbody tr th:only-of-type {\n",
       "        vertical-align: middle;\n",
       "    }\n",
       "\n",
       "    .dataframe tbody tr th {\n",
       "        vertical-align: top;\n",
       "    }\n",
       "\n",
       "    .dataframe thead th {\n",
       "        text-align: right;\n",
       "    }\n",
       "</style>\n",
       "<table border=\"1\" class=\"dataframe\">\n",
       "  <thead>\n",
       "    <tr style=\"text-align: right;\">\n",
       "      <th></th>\n",
       "      <th>구분</th>\n",
       "      <th>위치(구역명)</th>\n",
       "      <th>운동기구기종명</th>\n",
       "      <th>운동기구수량</th>\n",
       "      <th>관리번호</th>\n",
       "      <th>관리기관</th>\n",
       "    </tr>\n",
       "  </thead>\n",
       "  <tbody>\n",
       "    <tr>\n",
       "      <th>551</th>\n",
       "      <td>보라매공원</td>\n",
       "      <td>청소년수련관 뒤</td>\n",
       "      <td>역기</td>\n",
       "      <td>1</td>\n",
       "      <td>보라매공원-8(청소년수련관 뒤)-2</td>\n",
       "      <td>동부공원녹지사업소</td>\n",
       "    </tr>\n",
       "    <tr>\n",
       "      <th>552</th>\n",
       "      <td>보라매공원</td>\n",
       "      <td>청소년수련관 뒤</td>\n",
       "      <td>평행봉</td>\n",
       "      <td>2</td>\n",
       "      <td>보라매공원-8(청소년수련관 뒤)-3</td>\n",
       "      <td>동부공원녹지사업소</td>\n",
       "    </tr>\n",
       "  </tbody>\n",
       "</table>\n",
       "</div>"
      ],
      "text/plain": [
       "        구분   위치(구역명) 운동기구기종명  운동기구수량                   관리번호         관리기관\n",
       "551  보라매공원  청소년수련관 뒤      역기       1   보라매공원-8(청소년수련관 뒤)-2    동부공원녹지사업소 \n",
       "552  보라매공원  청소년수련관 뒤     평행봉       2   보라매공원-8(청소년수련관 뒤)-3    동부공원녹지사업소 "
      ]
     },
     "execution_count": 21,
     "metadata": {},
     "output_type": "execute_result"
    }
   ],
   "source": [
    "filterd_park.tail(2)"
   ]
  },
  {
   "cell_type": "code",
   "execution_count": 28,
   "metadata": {},
   "outputs": [
    {
     "data": {
      "text/plain": [
       "운동기구기종명\n",
       "줄당겨들기       1\n",
       "체스트풀        1\n",
       "하이풀리운동기구    1\n",
       "Name: count, dtype: int64"
      ]
     },
     "execution_count": 28,
     "metadata": {},
     "output_type": "execute_result"
    }
   ],
   "source": [
    "df['운동기구기종명'].value_counts(ascending=True).head(3)"
   ]
  },
  {
   "cell_type": "code",
   "execution_count": 15,
   "metadata": {},
   "outputs": [
    {
     "data": {
      "text/plain": [
       "운동기구기종명\n",
       "허리돌리기    180\n",
       "공중걷기     101\n",
       "하체흔들기     77\n",
       "Name: count, dtype: int64"
      ]
     },
     "execution_count": 15,
     "metadata": {},
     "output_type": "execute_result"
    }
   ],
   "source": [
    "# 5) 특정 운동기구 종류 데이터 필터링 (예:스텝사이클)\n",
    "df['운동기구기종명'].value_counts().head(3)"
   ]
  },
  {
   "cell_type": "code",
   "execution_count": 10,
   "metadata": {},
   "outputs": [
    {
     "data": {
      "text/html": [
       "<div>\n",
       "<style scoped>\n",
       "    .dataframe tbody tr th:only-of-type {\n",
       "        vertical-align: middle;\n",
       "    }\n",
       "\n",
       "    .dataframe tbody tr th {\n",
       "        vertical-align: top;\n",
       "    }\n",
       "\n",
       "    .dataframe thead th {\n",
       "        text-align: right;\n",
       "    }\n",
       "</style>\n",
       "<table border=\"1\" class=\"dataframe\">\n",
       "  <thead>\n",
       "    <tr style=\"text-align: right;\">\n",
       "      <th></th>\n",
       "      <th>구분</th>\n",
       "      <th>위치(구역명)</th>\n",
       "      <th>운동기구기종명</th>\n",
       "      <th>운동기구수량</th>\n",
       "      <th>관리번호</th>\n",
       "      <th>관리기관</th>\n",
       "    </tr>\n",
       "  </thead>\n",
       "  <tbody>\n",
       "    <tr>\n",
       "      <th>51</th>\n",
       "      <td>남산공원(회현)</td>\n",
       "      <td>용암천</td>\n",
       "      <td>평행봉</td>\n",
       "      <td>1</td>\n",
       "      <td>남삼회현-6(용암천)-11</td>\n",
       "      <td>중부공원녹지사업소</td>\n",
       "    </tr>\n",
       "    <tr>\n",
       "      <th>63</th>\n",
       "      <td>남산공원(회현)</td>\n",
       "      <td>기억의 터 위</td>\n",
       "      <td>평행봉</td>\n",
       "      <td>1</td>\n",
       "      <td>남삼회현-7(기억의터)-10</td>\n",
       "      <td>중부공원녹지사업소</td>\n",
       "    </tr>\n",
       "    <tr>\n",
       "      <th>70</th>\n",
       "      <td>남산공원(팔각)</td>\n",
       "      <td>독립군상 체육회</td>\n",
       "      <td>평행봉</td>\n",
       "      <td>1</td>\n",
       "      <td>남산팔각-1(독립군상)-6</td>\n",
       "      <td>중부공원녹지사업소</td>\n",
       "    </tr>\n",
       "    <tr>\n",
       "      <th>91</th>\n",
       "      <td>남산공원(팔각)</td>\n",
       "      <td>감로천 체육회</td>\n",
       "      <td>평행봉</td>\n",
       "      <td>1</td>\n",
       "      <td>남산팔각-2(감로천)-10</td>\n",
       "      <td>중부공원녹지사업소</td>\n",
       "    </tr>\n",
       "    <tr>\n",
       "      <th>92</th>\n",
       "      <td>남산공원(팔각)</td>\n",
       "      <td>감로천 체육회</td>\n",
       "      <td>평행봉</td>\n",
       "      <td>1</td>\n",
       "      <td>남산팔각-2(감로천)-11</td>\n",
       "      <td>중부공원녹지사업소</td>\n",
       "    </tr>\n",
       "  </tbody>\n",
       "</table>\n",
       "</div>"
      ],
      "text/plain": [
       "          구분     위치(구역명) 운동기구기종명  운동기구수량               관리번호         관리기관\n",
       "51  남산공원(회현)        용암천      평행봉       1    남삼회현-6(용암천)-11    중부공원녹지사업소 \n",
       "63  남산공원(회현)    기억의 터 위      평행봉       1   남삼회현-7(기억의터)-10    중부공원녹지사업소 \n",
       "70  남산공원(팔각)   독립군상 체육회      평행봉       1    남산팔각-1(독립군상)-6    중부공원녹지사업소 \n",
       "91  남산공원(팔각)    감로천 체육회      평행봉       1    남산팔각-2(감로천)-10    중부공원녹지사업소 \n",
       "92  남산공원(팔각)    감로천 체육회      평행봉       1    남산팔각-2(감로천)-11    중부공원녹지사업소 "
      ]
     },
     "execution_count": 10,
     "metadata": {},
     "output_type": "execute_result"
    }
   ],
   "source": [
    "filter_type = [\"평행봉\"]\n",
    "filtered_type = df[df[\"운동기구기종명\"].isin(filter_type)]\n",
    "filtered_type.to_string(\"문5_특정 운동기구 종류 데이터 필터링(평행봉).txt\", index=False)\n",
    "filtered_type.head()"
   ]
  },
  {
   "cell_type": "code",
   "execution_count": 11,
   "metadata": {},
   "outputs": [
    {
     "data": {
      "text/html": [
       "<div>\n",
       "<style scoped>\n",
       "    .dataframe tbody tr th:only-of-type {\n",
       "        vertical-align: middle;\n",
       "    }\n",
       "\n",
       "    .dataframe tbody tr th {\n",
       "        vertical-align: top;\n",
       "    }\n",
       "\n",
       "    .dataframe thead th {\n",
       "        text-align: right;\n",
       "    }\n",
       "</style>\n",
       "<table border=\"1\" class=\"dataframe\">\n",
       "  <thead>\n",
       "    <tr style=\"text-align: right;\">\n",
       "      <th></th>\n",
       "      <th>구분</th>\n",
       "      <th>위치(구역명)</th>\n",
       "      <th>운동기구기종명</th>\n",
       "      <th>운동기구수량</th>\n",
       "      <th>관리번호</th>\n",
       "      <th>관리기관</th>\n",
       "    </tr>\n",
       "  </thead>\n",
       "  <tbody>\n",
       "    <tr>\n",
       "      <th>518</th>\n",
       "      <td>보라매공원</td>\n",
       "      <td>다목적구장</td>\n",
       "      <td>벤치프레스</td>\n",
       "      <td>6</td>\n",
       "      <td>보라매공원-3(다목적구장)-1</td>\n",
       "      <td>동부공원녹지사업소</td>\n",
       "    </tr>\n",
       "    <tr>\n",
       "      <th>509</th>\n",
       "      <td>보라매공원</td>\n",
       "      <td>와우산</td>\n",
       "      <td>역기올리기</td>\n",
       "      <td>5</td>\n",
       "      <td>보라매공원-2(와우산)-3</td>\n",
       "      <td>동부공원녹지사업소</td>\n",
       "    </tr>\n",
       "    <tr>\n",
       "      <th>511</th>\n",
       "      <td>보라매공원</td>\n",
       "      <td>와우산</td>\n",
       "      <td>공중걷기</td>\n",
       "      <td>5</td>\n",
       "      <td>보라매공원-2(와우산)-5</td>\n",
       "      <td>동부공원녹지사업소</td>\n",
       "    </tr>\n",
       "    <tr>\n",
       "      <th>706</th>\n",
       "      <td>천호공원</td>\n",
       "      <td>헬스장</td>\n",
       "      <td>역기</td>\n",
       "      <td>4</td>\n",
       "      <td>천호공원-6(헬스장)-1</td>\n",
       "      <td>동부공원녹지사업소</td>\n",
       "    </tr>\n",
       "    <tr>\n",
       "      <th>547</th>\n",
       "      <td>보라매공원</td>\n",
       "      <td>배드민턴장</td>\n",
       "      <td>윗몸일으키기</td>\n",
       "      <td>3</td>\n",
       "      <td>보라매공원-7(배드민턴장)-2</td>\n",
       "      <td>동부공원녹지사업소</td>\n",
       "    </tr>\n",
       "  </tbody>\n",
       "</table>\n",
       "</div>"
      ],
      "text/plain": [
       "        구분 위치(구역명) 운동기구기종명  운동기구수량                관리번호         관리기관\n",
       "518  보라매공원   다목적구장   벤치프레스       6   보라매공원-3(다목적구장)-1    동부공원녹지사업소 \n",
       "509  보라매공원     와우산   역기올리기       5     보라매공원-2(와우산)-3    동부공원녹지사업소 \n",
       "511  보라매공원     와우산    공중걷기       5     보라매공원-2(와우산)-5    동부공원녹지사업소 \n",
       "706   천호공원    헬스장       역기       4      천호공원-6(헬스장)-1    동부공원녹지사업소 \n",
       "547  보라매공원   배드민턴장  윗몸일으키기       3   보라매공원-7(배드민턴장)-2    동부공원녹지사업소 "
      ]
     },
     "execution_count": 11,
     "metadata": {},
     "output_type": "execute_result"
    }
   ],
   "source": [
    "# 6) 운동기구 수량 기준 내림차순 정렬\n",
    "descending = df.sort_values('운동기구수량', ascending=False)\n",
    "descending.to_string(\"문6_운동기구 수량 기준 내림차순 정렬.txt\", index=False)\n",
    "descending.head()"
   ]
  }
 ],
 "metadata": {
  "kernelspec": {
   "display_name": "kdt_energy1_1",
   "language": "python",
   "name": "python3"
  },
  "language_info": {
   "codemirror_mode": {
    "name": "ipython",
    "version": 3
   },
   "file_extension": ".py",
   "mimetype": "text/x-python",
   "name": "python",
   "nbconvert_exporter": "python",
   "pygments_lexer": "ipython3",
   "version": "3.12.7"
  }
 },
 "nbformat": 4,
 "nbformat_minor": 2
}
