{
 "cells": [
  {
   "cell_type": "code",
   "execution_count": null,
   "metadata": {},
   "outputs": [],
   "source": [
    "import pandas as pd\n",
    "file_name = \"./서울시 공원 내 운동기구 설치 현황_201231.csv\"\n",
    "df = pd.read_csv(file_name, encoding=\"cp949\")\n",
    "df.head(3)"
   ]
  },
  {
   "cell_type": "code",
   "execution_count": null,
   "metadata": {},
   "outputs": [],
   "source": [
    "# 컬럼명 인식 불가 오류 -> 해결 : 컬럼명 공백제거 \n",
    "df.columns = df.columns.str.strip().str.replace(\" \", \"\")\n",
    "df.columns"
   ]
  },
  {
   "cell_type": "code",
   "execution_count": null,
   "metadata": {},
   "outputs": [],
   "source": [
    "sum_by_park = df.groupby('구분')['운동기구수량'].sum()\n",
    "sum_by_park.to_string(\"문1_공원별 총 운동기구 설치 수.txt\")\n",
    "sum_by_park.head()"
   ]
  },
  {
   "cell_type": "code",
   "execution_count": null,
   "metadata": {},
   "outputs": [],
   "source": [
    "# 2) 운동기구 종류별 설치 개수\n",
    "sum_by_type = df.groupby('운동기구기종명')['운동기구수량'].sum()\n",
    "sum_by_type.to_string(\"문2_운동기구 종류별 설치 개수.txt\")\n",
    "sum_by_type.head()"
   ]
  },
  {
   "cell_type": "code",
   "execution_count": null,
   "metadata": {},
   "outputs": [],
   "source": [
    "# 3) 관리기관별 총 운동기구 설치 수\n",
    "sum_by_control = df.groupby('관리기관')['운동기구수량'].sum()\n",
    "sum_by_control.to_string(\"문3_관리기관별 총 운동기구 설치 수.txt\")\n",
    "sum_by_control.head()"
   ]
  },
  {
   "cell_type": "code",
   "execution_count": null,
   "metadata": {},
   "outputs": [],
   "source": [
    "df['구분'].value_counts()"
   ]
  },
  {
   "cell_type": "code",
   "execution_count": null,
   "metadata": {},
   "outputs": [],
   "source": [
    "# 특정 데이터 필터링 불가 오류 -> 해결 : 데이터내 공백제거 \n",
    "for i in df.index:\n",
    "    df['구분']=df['구분'].str.strip().replace(\" \", \"\")\n",
    "    df['운동기구기종명']=df['운동기구기종명'].str.strip().replace(\" \", \"\")"
   ]
  },
  {
   "cell_type": "code",
   "execution_count": null,
   "metadata": {},
   "outputs": [],
   "source": [
    "# 4) 특정 공원 데이터 필터링 (예: 남산공원(회현))\n",
    "filter_park = [\"보라매공원\"]\n",
    "filterd_park = df[df['구분'].isin(filter_park)]\n",
    "filterd_park.to_string(\"문4_특정 공원 데이터 필터링(보라매공원).txt\", index=False)\n",
    "filterd_park.head()"
   ]
  },
  {
   "cell_type": "code",
   "execution_count": null,
   "metadata": {},
   "outputs": [],
   "source": [
    "# 5) 특정 운동기구 종류 데이터 필터링 (예:스텝사이클)\n",
    "df['운동기구기종명'].value_counts().head(10)"
   ]
  },
  {
   "cell_type": "code",
   "execution_count": null,
   "metadata": {},
   "outputs": [],
   "source": [
    "filter_type = [\"평행봉\"]\n",
    "filtered_type = df[df[\"운동기구기종명\"].isin(filter_type)]\n",
    "filtered_type.to_string(\"문5_특정 운동기구 종류 데이터 필터링(평행봉).txt\", index=False)\n",
    "filtered_type.head()"
   ]
  },
  {
   "cell_type": "code",
   "execution_count": null,
   "metadata": {},
   "outputs": [],
   "source": [
    "# 6) 운동기구 수량 기준 내림차순 정렬\n",
    "descending = df.sort_values('운동기구수량', ascending=False)\n",
    "descending.to_string(\"문6_운동기구 수량 기준 내림차순 정렬.txt\", index=False)\n",
    "descending.head()"
   ]
  }
 ],
 "metadata": {
  "kernelspec": {
   "display_name": "kdt_energy1_1",
   "language": "python",
   "name": "python3"
  },
  "language_info": {
   "codemirror_mode": {
    "name": "ipython",
    "version": 3
   },
   "file_extension": ".py",
   "mimetype": "text/x-python",
   "name": "python",
   "nbconvert_exporter": "python",
   "pygments_lexer": "ipython3",
   "version": "3.12.7"
  }
 },
 "nbformat": 4,
 "nbformat_minor": 2
}
