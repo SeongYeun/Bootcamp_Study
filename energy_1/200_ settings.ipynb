{
 "cells": [
  {
   "cell_type": "code",
   "execution_count": null,
   "metadata": {},
   "outputs": [],
   "source": [
    "# 예시) 모듈 불러오는 방식\n",
    "# import calc\n",
    "# import calc as a\n",
    "# from calc import add, sub\n",
    "# from calc import add as a, sub as b\n",
    "# from calc import *"
   ]
  },
  {
   "cell_type": "code",
   "execution_count": null,
   "metadata": {
    "notebookRunGroups": {
     "groupValue": "2"
    }
   },
   "outputs": [],
   "source": [
    "# matplotlib 한글 설정\n",
    "# 기본적으로 matplotlib은 한글 지원이 안되서 설정안하면 한글이 깨짐\n",
    "import matplotlib.pyplot as plt\n",
    "from matplotlib import font_manager\n",
    "\"\"\"\n",
    "# 1) 폰트 경로 찾기 ㅡ> 출력된 목록에서 원하는 폰트의 전체 경로를 복사\n",
    "font_list = font_manager.findSystemFonts(fontpaths=None, fontext='ttf')\n",
    "font_list       # 설치되어 있는 폰트 목록\n",
    "\"\"\"\n",
    "path =  'C:\\\\Windows\\\\Fonts\\\\KoPubDotumLight.ttf'\n",
    "font = font_manager.FontProperties(fname=path).get_name()\n",
    "plt.rc('font', family=font)"
   ]
  },
  {
   "cell_type": "code",
   "execution_count": null,
   "metadata": {},
   "outputs": [],
   "source": [
    "# 추상클래스\n",
    "from abc import ABC, abstractmethod"
   ]
  },
  {
   "cell_type": "code",
   "execution_count": null,
   "metadata": {},
   "outputs": [],
   "source": [
    "# 웹크롤링 ㅡ 정적 (뷰티풀숲)\n",
    "from bs4 import BeautifulSoup\n",
    "import requests                                             # .get() : url 받기"
   ]
  },
  {
   "cell_type": "code",
   "execution_count": null,
   "metadata": {},
   "outputs": [],
   "source": [
    "# 웹크롤링 ㅡ 동적\n",
    "# selenium\n",
    "import selenium\n",
    "from selenium import webdriver                              # 웹 프로그램 실행\n",
    "from selenium.webdriver.chrome.service import Service       # 웹 프로그램 설치\n",
    "from selenium.webdriver.common.by import By                 # find의 By 사용시\n",
    "from selenium.webdriver.common.keys import Keys             # send_keys에서 Keys 사용시\n",
    "from selenium.webdriver.chrome.options import Options       # 웹 프로그램 실행시 옵션 적용\n",
    "# webdriver\n",
    "from webdriver_manager.chrome import ChromeDriverManager    # 크롬 드라이버관련"
   ]
  },
  {
   "cell_type": "code",
   "execution_count": null,
   "metadata": {},
   "outputs": [],
   "source": [
    "# cmd환경 실행 ㅡ 폴더/파일생성 / 파일저장 / 파일저장주소 지정 등\n",
    "import os"
   ]
  },
  {
   "cell_type": "code",
   "execution_count": null,
   "metadata": {},
   "outputs": [],
   "source": [
    "# 시간관련\n",
    "import time                                                 # time / localtime / sleep / time.perf_counter(순간시간기록 = 타임스탬프)\n",
    "import datetime                                             # 날짜/시간 추출시 사용\n",
    "from datetime import datetime, timedelta, timezone          #  .today()ㅡ 타임존값X, .now()ㅡ타임존값O\n",
    "from datetime import date                                   # 날짜 / 요일 추출\n"
   ]
  },
  {
   "cell_type": "code",
   "execution_count": null,
   "metadata": {},
   "outputs": [],
   "source": [
    "# 수학연산관련\n",
    "import math                         # factorial / ceil / floor/ round 등"
   ]
  },
  {
   "cell_type": "code",
   "execution_count": null,
   "metadata": {},
   "outputs": [],
   "source": [
    "# 난수 생성\n",
    "from random import random                #  randint / sample / choice / uniform / randrange 등\n"
   ]
  }
 ],
 "metadata": {
  "kernelspec": {
   "display_name": "kdt_energy1_1",
   "language": "python",
   "name": "python3"
  },
  "language_info": {
   "name": "python",
   "version": "3.12.7"
  }
 },
 "nbformat": 4,
 "nbformat_minor": 2
}
